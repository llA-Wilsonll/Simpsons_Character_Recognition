{
  "nbformat": 4,
  "nbformat_minor": 0,
  "metadata": {
    "colab": {
      "name": "The_Simpsons_Transfer_Learning.ipynb",
      "provenance": [],
      "collapsed_sections": [],
      "authorship_tag": "ABX9TyP1snmAnzRHVr3yAV5m1WVW",
      "include_colab_link": true
    },
    "kernelspec": {
      "name": "python3",
      "display_name": "Python 3"
    }
  },
  "cells": [
    {
      "cell_type": "markdown",
      "metadata": {
        "id": "view-in-github",
        "colab_type": "text"
      },
      "source": [
        "<a href=\"https://colab.research.google.com/github/llA-Wilsonll/Simpsons_Character_Recognition/blob/master/The_Simpsons_Transfer_Learning.ipynb\" target=\"_parent\"><img src=\"https://colab.research.google.com/assets/colab-badge.svg\" alt=\"Open In Colab\"/></a>"
      ]
    },
    {
      "cell_type": "markdown",
      "metadata": {
        "id": "UuAaDMXLMTVL",
        "colab_type": "text"
      },
      "source": [
        "# Introduction\n",
        "In the previous notebook, I built (simple) models from scratch to try and classify images of 14 differnt simpsons characters. Due to the small dataset and the resources I have available to me to train the model, it wasn't feasible to train a super complex model to classify these images.\n",
        "\n",
        "Thankfully, there are many publicly available models which have been trained on much more data for much longer than we ever could. We can piggy-back off these models using their weights to extract features from our own images. To do so we will download a model and freeze it's layers up to a certain point, after which we will add some of our own dense layer which we will train."
      ]
    },
    {
      "cell_type": "markdown",
      "metadata": {
        "id": "zkBibd22PG0q",
        "colab_type": "text"
      },
      "source": [
        "# Set up\n",
        "Loading the required packages"
      ]
    },
    {
      "cell_type": "code",
      "metadata": {
        "id": "l9AdkJqNMKTd",
        "colab_type": "code",
        "colab": {}
      },
      "source": [
        "%tensorflow_version 1.x\n",
        "import tensorflow as tf\n",
        "print(tf.__version__)"
      ],
      "execution_count": 0,
      "outputs": []
    },
    {
      "cell_type": "code",
      "metadata": {
        "id": "VG4fmetSOQBv",
        "colab_type": "code",
        "colab": {}
      },
      "source": [
        "import re\n",
        "import itertools\n",
        "import numpy as np\n",
        "from tensorflow.keras.optimizers import Adam\n",
        "from tensorflow.keras.preprocessing.image import ImageDataGenerator, img_to_array, load_img\n",
        "import matplotlib.image  as mpimg\n",
        "import matplotlib.pyplot as plt\n",
        "import matplotlib.axes as ax\n",
        "from sklearn.metrics import classification_report, confusion_matrix\n",
        "\n",
        "from pydrive.auth import GoogleAuth\n",
        "from pydrive.drive import GoogleDrive\n",
        "from google.colab import auth\n",
        "from oauth2client.client import GoogleCredentials\n",
        "import zipfile \n",
        "import os\n",
        "import random"
      ],
      "execution_count": 0,
      "outputs": []
    },
    {
      "cell_type": "markdown",
      "metadata": {
        "id": "maYPhDN0PPhf",
        "colab_type": "text"
      },
      "source": [
        "Loading our dataset we saved to Google Drive in an earlier notebook"
      ]
    },
    {
      "cell_type": "code",
      "metadata": {
        "id": "mrwD1lv4PXKa",
        "colab_type": "code",
        "colab": {}
      },
      "source": [
        "# Insert your file ID below\n",
        "# An example : https://drive.google.com/file/d/1iz5JmTB4YcBvO7amj3Sy2_scSeAsN4gd/view?usp=sharing\n",
        "zip_id = '1HGcEPmGBYAXIp4TUdiIlYodBdHZswNYB'\n",
        "\n",
        "# 1. Authenticate and create the PyDrive client.\n",
        "auth.authenticate_user()\n",
        "gauth = GoogleAuth()\n",
        "gauth.credentials = GoogleCredentials.get_application_default()\n",
        "drive = GoogleDrive(gauth)\n",
        "\n",
        "if not os.path.exists('/content/simpsons_generator_v2'):\n",
        "    os.makedirs('/content/simpsons_generator_v2')\n",
        "\n",
        "# 2. Download Zip\n",
        "print (\"Downloading zip file\")\n",
        "myzip = drive.CreateFile({'id': zip_id})\n",
        "myzip.GetContentFile('simpsons_generator_directory_v2.zip')\n",
        "\n",
        "# 3. Unzip\n",
        "print (\"Uncompressing zip file\")\n",
        "zip_ref = zipfile.ZipFile('simpsons_generator_directory_v2.zip', 'r')\n",
        "zip_ref.extractall('/content/simpsons_generator_v2/')\n",
        "zip_ref.close()"
      ],
      "execution_count": 0,
      "outputs": []
    }
  ]
}