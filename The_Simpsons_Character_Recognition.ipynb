{
  "nbformat": 4,
  "nbformat_minor": 0,
  "metadata": {
    "colab": {
      "name": "The_Simpsons_Character_Recognition",
      "provenance": [],
      "collapsed_sections": [],
      "include_colab_link": true
    },
    "kernelspec": {
      "name": "python3",
      "display_name": "Python 3"
    },
    "accelerator": "GPU"
  },
  "cells": [
    {
      "cell_type": "markdown",
      "metadata": {
        "id": "view-in-github",
        "colab_type": "text"
      },
      "source": [
        "<a href=\"https://colab.research.google.com/github/llA-Wilsonll/Simpsons_Character_Recognition/blob/master/The_Simpsons_Character_Recognition.ipynb\" target=\"_parent\"><img src=\"https://colab.research.google.com/assets/colab-badge.svg\" alt=\"Open In Colab\"/></a>"
      ]
    },
    {
      "cell_type": "markdown",
      "metadata": {
        "id": "zKXFeUEjccE5",
        "colab_type": "text"
      },
      "source": [
        "# Loading the Data"
      ]
    },
    {
      "cell_type": "markdown",
      "metadata": {
        "id": "R8s-HjbJckAq",
        "colab_type": "text"
      },
      "source": [
        "Importing the required packages"
      ]
    },
    {
      "cell_type": "code",
      "metadata": {
        "id": "NXAWIJwAQA9T",
        "colab_type": "code",
        "colab": {}
      },
      "source": [
        "import os\n",
        "import zipfile\n",
        "import sys\n",
        "import shutil\n",
        "import random"
      ],
      "execution_count": 0,
      "outputs": []
    },
    {
      "cell_type": "markdown",
      "metadata": {
        "id": "PkgsAOcTb41J",
        "colab_type": "text"
      },
      "source": [
        "Upload the kaggle json Key which allows us to download data from Kaggle."
      ]
    },
    {
      "cell_type": "code",
      "metadata": {
        "id": "ozjER4sEO8-3",
        "colab_type": "code",
        "colab": {
          "resources": {
            "http://localhost:8080/nbextensions/google.colab/files.js": {
              "data": "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",
              "ok": true,
              "headers": [
                [
                  "content-type",
                  "application/javascript"
                ]
              ],
              "status": 200,
              "status_text": ""
            }
          },
          "base_uri": "https://localhost:8080/",
          "height": 111
        },
        "outputId": "9ae7077c-79ae-48fb-ca37-34f49760a309"
      },
      "source": [
        "from google.colab import files\n",
        "files.upload()  #this will prompt you to upload the kaggle.json"
      ],
      "execution_count": 3,
      "outputs": [
        {
          "output_type": "display_data",
          "data": {
            "text/html": [
              "\n",
              "     <input type=\"file\" id=\"files-e6b59b09-6a59-4b4c-8f8f-485c92156fb5\" name=\"files[]\" multiple disabled />\n",
              "     <output id=\"result-e6b59b09-6a59-4b4c-8f8f-485c92156fb5\">\n",
              "      Upload widget is only available when the cell has been executed in the\n",
              "      current browser session. Please rerun this cell to enable.\n",
              "      </output>\n",
              "      <script src=\"/nbextensions/google.colab/files.js\"></script> "
            ],
            "text/plain": [
              "<IPython.core.display.HTML object>"
            ]
          },
          "metadata": {
            "tags": []
          }
        },
        {
          "output_type": "stream",
          "text": [
            "Saving kaggle.json to kaggle.json\n"
          ],
          "name": "stdout"
        },
        {
          "output_type": "execute_result",
          "data": {
            "text/plain": [
              "{'kaggle.json': b'{\"username\":\"aaroncwilson\",\"key\":\"8fd509bef31a87eec6f17681d818cf03\"}'}"
            ]
          },
          "metadata": {
            "tags": []
          },
          "execution_count": 3
        }
      ]
    },
    {
      "cell_type": "markdown",
      "metadata": {
        "id": "mtEiyKWlcNwP",
        "colab_type": "text"
      },
      "source": [
        "The following packages are used so we can save files from Colab to Google Drive and vice versa."
      ]
    },
    {
      "cell_type": "code",
      "metadata": {
        "id": "htlABCbKb0pg",
        "colab_type": "code",
        "colab": {}
      },
      "source": [
        "from pydrive.auth import GoogleAuth\n",
        "from pydrive.drive import GoogleDrive\n",
        "from google.colab import auth\n",
        "from oauth2client.client import GoogleCredentials"
      ],
      "execution_count": 0,
      "outputs": []
    },
    {
      "cell_type": "markdown",
      "metadata": {
        "id": "OqntY8sicu1C",
        "colab_type": "text"
      },
      "source": [
        "## Downloading the Kaggle Dataset\n",
        "We start by downloading the dataset prepared by alexattia on Kaggle: https://www.kaggle.com/alexattia/the-simpsons-characters-dataset"
      ]
    },
    {
      "cell_type": "code",
      "metadata": {
        "id": "KS2sikmrPkt_",
        "colab_type": "code",
        "colab": {
          "base_uri": "https://localhost:8080/",
          "height": 34
        },
        "outputId": "164b4d07-7356-46a3-d105-7db2a4cc6a06"
      },
      "source": [
        "!pip install -q kaggle\n",
        "!mkdir -p ~/.kaggle\n",
        "!cp kaggle.json ~/.kaggle/\n",
        "!ls ~/.kaggle\n",
        "!chmod 600 /root/.kaggle/kaggle.json  # set permission"
      ],
      "execution_count": 4,
      "outputs": [
        {
          "output_type": "stream",
          "text": [
            "kaggle.json\n"
          ],
          "name": "stdout"
        }
      ]
    },
    {
      "cell_type": "code",
      "metadata": {
        "id": "wm6_aK04Psnp",
        "colab_type": "code",
        "colab": {
          "base_uri": "https://localhost:8080/",
          "height": 68
        },
        "outputId": "54377ae7-6ea9-4421-8a70-565c47ca890b"
      },
      "source": [
        "!kaggle datasets download -d alexattia/the-simpsons-characters-dataset -p /content/"
      ],
      "execution_count": 5,
      "outputs": [
        {
          "output_type": "stream",
          "text": [
            "Downloading the-simpsons-characters-dataset.zip to /content\n",
            " 99% 1.06G/1.08G [00:34<00:00, 36.2MB/s]\n",
            "100% 1.08G/1.08G [00:34<00:00, 33.4MB/s]\n"
          ],
          "name": "stdout"
        }
      ]
    },
    {
      "cell_type": "markdown",
      "metadata": {
        "id": "gXUvvksPdBym",
        "colab_type": "text"
      },
      "source": [
        "We then create the directory where we want to store the data and then unzip the file we downloaded into it."
      ]
    },
    {
      "cell_type": "code",
      "metadata": {
        "id": "wBc2H98AQFdF",
        "colab_type": "code",
        "colab": {}
      },
      "source": [
        "os.mkdir('/content/simpsons/')"
      ],
      "execution_count": 0,
      "outputs": []
    },
    {
      "cell_type": "code",
      "metadata": {
        "id": "FkDLGlRNRF1D",
        "colab_type": "code",
        "colab": {}
      },
      "source": [
        "local_zip = '/content/the-simpsons-characters-dataset.zip'\n",
        "zip_ref = zipfile.ZipFile(local_zip, 'r')\n",
        "zip_ref.extractall('/content/simpsons')\n",
        "zip_ref.close()"
      ],
      "execution_count": 0,
      "outputs": []
    },
    {
      "cell_type": "markdown",
      "metadata": {
        "id": "Kh8clcBUdPS1",
        "colab_type": "text"
      },
      "source": [
        "To get an idea of how many images we have of each character we run the below code."
      ]
    },
    {
      "cell_type": "code",
      "metadata": {
        "id": "AsTGmDzcFHma",
        "colab_type": "code",
        "colab": {
          "base_uri": "https://localhost:8080/",
          "height": 748
        },
        "outputId": "e50c128c-ca32-4b92-f6ea-6588aed100ce"
      },
      "source": [
        "characters = os.listdir('/content/simpsons/simpsons_dataset/simpsons_dataset')\n",
        "print('There are ' + str(len(characters)) + ' characters.')\n",
        "\n",
        "# Creating a dictionary to store the number of images per character\n",
        "character_observations_dict = {}\n",
        "for character in characters:\n",
        "  num_images = len(os.listdir('/content/simpsons/simpsons_dataset/simpsons_dataset/' \n",
        "                              + character))\n",
        "  character_observations_dict[character] = num_images\n",
        "  \n",
        "listofTuples = sorted(character_observations_dict.items(), reverse=True,\n",
        "                      key=lambda x: x[1])\n",
        " \n",
        "# Iterate over the sorted sequence\n",
        "for elem in listofTuples :\n",
        "    print(\"{0:<26}{1:^2}{2:>13}\".format(elem[0],\"::\", str(elem[1]) + \" images.\"))"
      ],
      "execution_count": 75,
      "outputs": [
        {
          "output_type": "stream",
          "text": [
            "There are 42 characters.\n",
            "homer_simpson             :: 2246 images.\n",
            "ned_flanders              :: 1454 images.\n",
            "moe_szyslak               :: 1452 images.\n",
            "lisa_simpson              :: 1354 images.\n",
            "bart_simpson              :: 1342 images.\n",
            "marge_simpson             :: 1291 images.\n",
            "krusty_the_clown          :: 1206 images.\n",
            "principal_skinner         :: 1194 images.\n",
            "charles_montgomery_burns  :: 1193 images.\n",
            "milhouse_van_houten       :: 1079 images.\n",
            "chief_wiggum              ::  986 images.\n",
            "abraham_grampa_simpson    ::  913 images.\n",
            "sideshow_bob              ::  877 images.\n",
            "apu_nahasapeemapetilon    ::  623 images.\n",
            "kent_brockman             ::  498 images.\n",
            "comic_book_guy            ::  469 images.\n",
            "edna_krabappel            ::  457 images.\n",
            "nelson_muntz              ::  358 images.\n",
            "lenny_leonard             ::  310 images.\n",
            "mayor_quimby              ::  246 images.\n",
            "waylon_smithers           ::  181 images.\n",
            "maggie_simpson            ::  128 images.\n",
            "groundskeeper_willie      ::  121 images.\n",
            "barney_gumble             ::  106 images.\n",
            "selma_bouvier             ::  103 images.\n",
            "carl_carlson              ::   98 images.\n",
            "ralph_wiggum              ::   89 images.\n",
            "patty_bouvier             ::   72 images.\n",
            "martin_prince             ::   71 images.\n",
            "professor_john_frink      ::   65 images.\n",
            "snake_jailbird            ::   55 images.\n",
            "cletus_spuckler           ::   47 images.\n",
            "rainier_wolfcastle        ::   45 images.\n",
            "agnes_skinner             ::   42 images.\n",
            "sideshow_mel              ::   40 images.\n",
            "otto_mann                 ::   32 images.\n",
            "fat_tony                  ::   27 images.\n",
            "gil                       ::   27 images.\n",
            "miss_hoover               ::   17 images.\n",
            "disco_stu                 ::    8 images.\n",
            "troy_mcclure              ::    8 images.\n",
            "lionel_hutz               ::    3 images.\n"
          ],
          "name": "stdout"
        }
      ]
    },
    {
      "cell_type": "markdown",
      "metadata": {
        "id": "wBwpxV2zeKI6",
        "colab_type": "text"
      },
      "source": [
        "## Searching for more data\n",
        "As we can see in the above, some characters like Homer, Ned, Moe etc. have more than 1000 images whereas Lionel Hutz and Troy McClure have less then 10.\n",
        "\n",
        "Ideally we want to balance the number of images per class (character) somewhat and so we will first get rid of a few characters which have a low number of images. Then we will use the `google_images_download` package to search for more images for some characters."
      ]
    },
    {
      "cell_type": "code",
      "metadata": {
        "id": "1jhxao6m4Fk1",
        "colab_type": "code",
        "colab": {
          "base_uri": "https://localhost:8080/",
          "height": 272
        },
        "outputId": "4659fe85-24bf-405f-f7e3-dd06276ac9a6"
      },
      "source": [
        "character_observations_sub_dict = {}\n",
        "\n",
        "for character, num_images in character_observations_dict.items():\n",
        "  if num_images >= 500:\n",
        "    character_observations_sub_dict[character] = num_images\n",
        "  else:\n",
        "    shutil.rmtree('/content/simpsons/simpsons_dataset/simpsons_dataset/' + character)\n",
        "\n",
        "characters = os.listdir('/content/simpsons/simpsons_dataset/simpsons_dataset')\n",
        "print('There are now ' + str(len(characters)) + ' characters.')\n",
        "    \n",
        "listofTuples = sorted(character_observations_sub_dict.items(), reverse=True,\n",
        "                      key=lambda x: x[1])\n",
        " \n",
        "# Iterate over the sorted sequence\n",
        "for elem in listofTuples :\n",
        "    print(\"{0:<26}{1:^2}{2:>13}\".format(elem[0],\"::\", str(elem[1]) + \" images.\"))\n"
      ],
      "execution_count": 76,
      "outputs": [
        {
          "output_type": "stream",
          "text": [
            "There are now 14 characters.\n",
            "homer_simpson             :: 2246 images.\n",
            "ned_flanders              :: 1454 images.\n",
            "moe_szyslak               :: 1452 images.\n",
            "lisa_simpson              :: 1354 images.\n",
            "bart_simpson              :: 1342 images.\n",
            "marge_simpson             :: 1291 images.\n",
            "krusty_the_clown          :: 1206 images.\n",
            "principal_skinner         :: 1194 images.\n",
            "charles_montgomery_burns  :: 1193 images.\n",
            "milhouse_van_houten       :: 1079 images.\n",
            "chief_wiggum              ::  986 images.\n",
            "abraham_grampa_simpson    ::  913 images.\n",
            "sideshow_bob              ::  877 images.\n",
            "apu_nahasapeemapetilon    ::  623 images.\n"
          ],
          "name": "stdout"
        }
      ]
    },
    {
      "cell_type": "code",
      "metadata": {
        "id": "RUFkges6iDSO",
        "colab_type": "code",
        "colab": {
          "base_uri": "https://localhost:8080/",
          "height": 88
        },
        "outputId": "49b64127-726d-429d-9095-cf11c63eaca1"
      },
      "source": [
        "pip install google_images_download"
      ],
      "execution_count": 65,
      "outputs": [
        {
          "output_type": "stream",
          "text": [
            "Requirement already satisfied: google_images_download in /usr/local/lib/python3.6/dist-packages (2.8.0)\n",
            "Requirement already satisfied: selenium in /usr/local/lib/python3.6/dist-packages (from google_images_download) (3.141.0)\n",
            "Requirement already satisfied: urllib3 in /usr/local/lib/python3.6/dist-packages (from selenium->google_images_download) (1.24.3)\n"
          ],
          "name": "stdout"
        }
      ]
    },
    {
      "cell_type": "markdown",
      "metadata": {
        "id": "MVhsecAAJvwT",
        "colab_type": "text"
      },
      "source": [
        "Finding the mean of the number of images we have for each character, not including Homer."
      ]
    },
    {
      "cell_type": "code",
      "metadata": {
        "id": "8kWIYgAnHT9t",
        "colab_type": "code",
        "colab": {
          "base_uri": "https://localhost:8080/",
          "height": 34
        },
        "outputId": "ba4b132a-65e2-4463-80b3-afa7e22cc823"
      },
      "source": [
        "i = 0\n",
        "n = 0\n",
        "for character, num_images in character_observations_sub_dict.items():\n",
        "  if character != 'homer_simpson':\n",
        "    i += num_images\n",
        "    n += 1\n",
        "\n",
        "mean = i/n\n",
        "print('Mean =', mean)"
      ],
      "execution_count": 81,
      "outputs": [
        {
          "output_type": "stream",
          "text": [
            "Mean = 1151.076923076923\n"
          ],
          "name": "stdout"
        }
      ]
    },
    {
      "cell_type": "markdown",
      "metadata": {
        "id": "fwJkjLQhJ83K",
        "colab_type": "text"
      },
      "source": [
        "Downloading an extra 100 images (current limit of `google_images_download` without extra configuration) for all characters that have less then the mean number of images found above.\n",
        "\n"
      ]
    },
    {
      "cell_type": "code",
      "metadata": {
        "id": "DGOkHbltgdOk",
        "colab_type": "code",
        "colab": {
          "base_uri": "https://localhost:8080/",
          "height": 1000
        },
        "outputId": "9535542d-ca35-4639-b2fb-c49577ec3337"
      },
      "source": [
        "from google_images_download import google_images_download   #importing the library\n",
        "\n",
        "response = google_images_download.googleimagesdownload()   #class instantiation\n",
        "\n",
        "for character, num_images in character_observations_sub_dict.items():\n",
        "  if num_images < mean:\n",
        "    character_split = character.replace(\"_\",\" \")\n",
        "\n",
        "    arguments_content = {\"keywords\":\"simpsons \" + character_split,\n",
        "                         \"limit\": 100,\n",
        "                         \"output_directory\":\"/content/simpsons/simpsons_dataset/simpsons_dataset/\",\n",
        "                         \"image_directory\":character,\n",
        "                         \"format\":\"jpg\"}   #creating dict of arguments\n",
        "    paths = response.download(arguments_content)   #passing the arguments to the function"
      ],
      "execution_count": 82,
      "outputs": [
        {
          "output_type": "stream",
          "text": [
            "\n",
            "Item no.: 1 --> Item name = simpsons chief wiggum\n",
            "Evaluating...\n",
            "Starting Download...\n",
            "Wrong image format returned. Skipping...\n",
            "Completed Image ====> 1.hqdefault.jpg\n",
            "Completed Image ====> 2.220px-Chief_Wiggum_Springfield_U_S_A.JPG\n",
            "Completed Image ====> 3.81tYIp9qkGL._SY606_.jpg\n",
            "Completed Image ====> 4.41igKzQTiDL.jpg\n",
            "Completed Image ====> 5.BXNlzdFIIAANXII.jpg\n",
            "Completed Image ====> 6.the-simpsons-thumb.jpg\n",
            "Completed Image ====> 7.Chief%2BWiggum.jpg\n",
            "Completed Image ====> 8.hqdefault.jpg\n",
            "Completed Image ====> 9.Simpsons_06_21_P1_640x360_312568387694.jpg\n",
            "Completed Image ====> 10.204f0014d0627cc76b67ae51e03f4047.jpg\n",
            "Completed Image ====> 11.Simpsons_07_02_P3_640x360_321202243949.jpg\n",
            "Completed Image ====> 12.chief-clancy-wiggum-from-the-simpsons-edward-fielding.jpg\n",
            "Completed Image ====> 13.maxresdefault.jpg\n",
            "Completed Image ====> 14.410UZH-yk1L.jpg\n",
            "Completed Image ====> 15.chief-clancy-wiggum-the-simpsons-movie-64.4.jpg\n",
            "Completed Image ====> 16.chief-wiggum-the-simpsons.jpg\n",
            "Completed Image ====> 17.s-l400.jpg\n",
            "Completed Image ====> 18.cover1.jpg\n",
            "Completed Image ====> 19.816594d2e89a697c3f7b50b05b2b8ccc.jpg\n",
            "Wrong image format returned. Skipping...\n",
            "Completed Image ====> 20.imgbin-chief-wiggum-ralph-wiggum-homer-simpson-maggie-simpson-lisa-simpson-bart-simpson-PXGhHA14dWpaY1UNmgAaQeb90.jpg\n",
            "Completed Image ====> 21.maxresdefault.jpg\n",
            "Completed Image ====> 22.Simpsons_16_14_P3_640x360_287908931929.jpg\n",
            "Completed Image ====> 23.w8DqfQcofxjmd0zqwXeDQvKcoDOzVn2yG2rp1zsQ6-c.jpg\n",
            "Wrong image format returned. Skipping...\n",
            "Completed Image ====> 24.61U6oe%2BTcXL._SX258_BO1,204,203,200_.jpg\n",
            "Completed Image ====> 25.Chief-Wiggum-71005-Lego-Simpsons-Minifigure-1.jpg\n",
            "Wrong image format returned. Skipping...\n",
            "Completed Image ====> 26.26jpab.jpg\n",
            "Completed Image ====> 27.17167f.jpg\n",
            "Completed Image ====> 28.Simpsons_08_02_P2.jpg\n",
            "Completed Image ====> 29.lego-chief-wiggum-with-doughnut-frosting-on-face-and-shirt-minifigure-25.jpg\n",
            "Wrong image format returned. Skipping...\n",
            "Completed Image ====> 30.simpsons-plush-figure-chief-wiggum-31-cm.jpg\n",
            "URLError on an image...trying next one... Error: HTTP Error 404: Not Found\n",
            "Completed Image ====> 31.16403940197_24bbe8b350_z.jpg\n",
            "Completed Image ====> 32.simpsons-png-chief-wiggum-homer-simpson-clipart-c895024f8f2500d6.jpg\n",
            "Completed Image ====> 33.hqdefault.jpg\n",
            "Completed Image ====> 34.Simpsons_World_of_Springfield_Series_2_Interactive_Figure_CHIEF_WIGGUM_Playmates_1024x1024.jpg\n",
            "Completed Image ====> 35.025_2168f460-da9a-431b-bcf3-083c072f9029_large.JPG\n",
            "Completed Image ====> 36.Chief_Wiggum.jpg\n",
            "Completed Image ====> 37.5fd57893de218d33d5f856c50a5017de.jpg\n",
            "Completed Image ====> 38.647de75b3acd457fa60f2559cb93907b.jpg\n",
            "URLError on an image...trying next one... Error: HTTP Error 403: Forbidden\n",
            "Completed Image ====> 39.simpsonschiefwiggumthumb.jpg\n",
            "Completed Image ====> 40.CHfiaqpWEAEnZ7w.jpg\n",
            "Completed Image ====> 41.CHIEFWIGGUM8GBunit1.jpg\n",
            "Completed Image ====> 42.chief-wiggum-the-simpsons-cartoon-studio-9.81.jpg\n",
            "Completed Image ====> 43.105565293-los-angeles-usa-sep-27-2015-police-chief-wiggum-at-the-simpsons-area-of-the-universal-studios-hollyw.jpg\n",
            "Wrong image format returned. Skipping...\n",
            "Wrong image format returned. Skipping...\n",
            "Completed Image ====> 44.chiefwiggum_trans_NvBQzQNjv4Bqeo_i_u9APj8RuoebjoAHt0k9u7HhRJvuo-ZLenGRumA.jpg\n",
            "Completed Image ====> 45.imgbin-chief-wiggum-barney-gumble-nelson-muntz-homer-simpson-grampa-simpson-the-simpsons-movie-the-simpsons-character-AZh0LdSyhMqRaARWTw9hheB1n.jpg\n",
            "Completed Image ====> 46.MV5BMTQ5Njc5ODIzMl5BMl5BanBnXkFtZTgwNTY3NjQ2MjE@._V1_UY1200_CR485,0,630,1200_AL_.jpg\n",
            "Completed Image ====> 47.LEGO-Simpsons-Chief-Wiggum-Minifigure-Arrests-LEGO-Snake-Jailbird-Minifigure1-e1426171590789.jpg\n",
            "Completed Image ====> 48.FU82110.jpg\n",
            "Completed Image ====> 49.Pants-600x338.jpg\n",
            "Completed Image ====> 50.abbae85f847d8b724acff4c40d3e24d7.jpg\n",
            "Wrong image format returned. Skipping...\n",
            "Completed Image ====> 51.zu61066292_main_tm1538085824.jpg\n",
            "Completed Image ====> 52.s-l300.jpg\n",
            "Wrong image format returned. Skipping...\n",
            "Completed Image ====> 53.chief-wiggum-124-kidrobot-vinyl-figure_1600x.jpg\n",
            "Completed Image ====> 54.Chief-Wiggum_zpsb87jtdno.jpg\n",
            "Completed Image ====> 55.kisspng-homer-simpson-marge-simpson-bart-simpson-the-simps-the-simpsons-icon-tv-show-mega-pack-1-iconset-5b685a9bb55547.5491361615335655957428.jpg\n",
            "Completed Image ====> 56.tumblr_mq3bx3u8Ur1snjzm6o1_1280.jpg\n",
            "URLError on an image...trying next one... Error: HTTP Error 403: Forbidden\n",
            "Completed Image ====> 57.MON10274_i.jpg\n",
            "Completed Image ====> 58.3416_chiefwiggum.jpg\n",
            "Wrong image format returned. Skipping...\n",
            "Completed Image ====> 59.b0f.jpg\n",
            "Completed Image ====> 60.maxresdefault.jpg\n",
            "Completed Image ====> 61.barney-gumble-homer-simpson-moe-szyslak-carl-carlson-chief-wiggum-simpsons.jpg\n",
            "Wrong image format returned. Skipping...\n",
            "Completed Image ====> 62.chief_wiggum_ready_medium.jpg\n",
            "Completed Image ====> 63.61IVesodVEL._SL1400_.jpg\n",
            "Completed Image ====> 64.Simpsons_13_21_P2_640x360_317234755740.jpg\n",
            "Completed Image ====> 65.OldThinCrane-mobile.jpg\n",
            "Completed Image ====> 66.tumblr_p283kliySB1r2amcuo1_400.jpg\n",
            "Completed Image ====> 67.Chief_Wiggum.jpg\n",
            "Completed Image ====> 68.the-simpsons---gentle-giant-bust-ups-serie-2---chief-wiggum-s-hot-chili-p-image-265060-grande.jpg\n",
            "Wrong image format returned. Skipping...\n",
            "Completed Image ====> 69.x354-q80.jpg\n",
            "Completed Image ====> 70.chief_clancy_wiggum_01_the_simpsons_51048.jpg\n",
            "Completed Image ====> 71.ralph-wiggum-chief-wiggum-lisa-simpson-marge-simpson-bart-simpson-the-simpsons.jpg\n",
            "Completed Image ====> 72.14152827904_7b2d76e1d7_b.jpg\n",
            "Completed Image ====> 73.Homer-Threatens-Chief-Wiggum-With-a-Rise-Up-Against-The-Police-On-The-Simpsons.jpg\n",
            "Completed Image ====> 74.tumblr_m4cq9ax7VL1qfrrv2o1_1280.jpg\n",
            "Completed Image ====> 75.IMG_1876-e1556637223564.jpg\n",
            "Completed Image ====> 76.lego-minifigure-simpsons-series-1-full-set.jpg\n",
            "Completed Image ====> 77.the-simpsons---playmates---chief-wiggum--series-2--p-image-230757-grande.jpg\n",
            "Wrong image format returned. Skipping...\n",
            "Completed Image ====> 78.chief-wiggum-edward-g-robinson.jpg\n",
            "Completed Image ====> 79.the-simpsons-chief-wiggum_1_000000001012_1.jpg\n",
            "Completed Image ====> 80.ralph-wiggum-chief-wiggum-barney-gumble-apu-nahasapeemapetilon-moe-szyslak-os-simpsons.jpg\n",
            "URLError on an image...trying next one... Error: HTTP Error 403: Forbidden\n",
            "URLError on an image...trying next one... Error: HTTP Error 404: Not Found\n",
            "Completed Image ====> 81.MV5BZmMyNzgwNDYtN2YzMS00MmViLTgwYWEtOTllYzU0Mzk3OGNjXkEyXkFqcGdeQXVyNjQwMTkxMDU@._V1_UY1200_CR751,0,630,1200_AL_.jpg\n",
            "URLError on an image...trying next one... Error: HTTP Error 403: Forbidden\n",
            "\n",
            "\n",
            "Unfortunately all 100 could not be downloaded because some images were not downloadable. 81 is all we got for this search filter!\n",
            "\n",
            "Errors: 19\n",
            "\n",
            "\n",
            "Item no.: 1 --> Item name = simpsons milhouse van houten\n",
            "Evaluating...\n",
            "Starting Download...\n",
            "\n",
            "\n",
            "Unfortunately all 100 could not be downloaded because some images were not downloadable. 0 is all we got for this search filter!\n",
            "\n",
            "Errors: 0\n",
            "\n",
            "\n",
            "Item no.: 1 --> Item name = simpsons sideshow bob\n",
            "Evaluating...\n",
            "Starting Download...\n",
            "Completed Image ====> 1.MV5BMTZhY2IwNzYtMTFhYy00NjliLTlkNGYtYzk1YjhmNWEwZTlmXkEyXkFqcGdeQXVyNjcwMzEzMTU@._V1_UY268_CR87,0,182,268_AL_.jpg\n",
            "Completed Image ====> 2.sideshow-bob.jpg\n",
            "Completed Image ====> 3.sideshowbob.jpg\n",
            "Completed Image ====> 4.sbr21.jpg\n",
            "Completed Image ====> 5.51jhcGSmNRL._SX569_.jpg\n",
            "Wrong image format returned. Skipping...\n",
            "Completed Image ====> 6.simpsons_23996467.jpg\n",
            "Completed Image ====> 7.sideshowbob.jpg\n",
            "Completed Image ====> 8.Sideshow-Bob-700x300.jpg\n",
            "Completed Image ====> 9.hqdefault.jpg\n",
            "Completed Image ====> 10.sideshow-bob-bart.jpg\n",
            "Completed Image ====> 11.xxx_simpsons-sideshow-bob-5548-_66580206-e1433767860574.jpg\n",
            "Completed Image ====> 12.Simpsons_07_10.jpg\n",
            "Completed Image ====> 13.bob.0.0.jpg\n",
            "Completed Image ====> 14.sideshow-bob-will-kill-bart-on-the-simpsons.jpg\n",
            "Completed Image ====> 15.MV5BMTZhY2IwNzYtMTFhYy00NjliLTlkNGYtYzk1YjhmNWEwZTlmXkEyXkFqcGdeQXVyNjcwMzEzMTU@._V1_.jpg\n",
            "Wrong image format returned. Skipping...\n",
            "Completed Image ====> 16.f4125b26d44889e59a62e2af9832efee.jpg\n",
            "Completed Image ====> 17.sideshow-bob.jpg\n",
            "Completed Image ====> 18.ommge1lk2mwrp7w4vdrx.jpg\n",
            "Completed Image ====> 19.51YX4pb-cDL._SX466_.jpg\n",
            "Completed Image ====> 20.hqdefault.jpg\n",
            "Completed Image ====> 21.8ea12bd79870a03994fbf65f63baaa92--school-pictures-sideshow.jpg\n",
            "Wrong image format returned. Skipping...\n",
            "Wrong image format returned. Skipping...\n",
            "Wrong image format returned. Skipping...\n",
            "Completed Image ====> 22.Simpsons_08_18_P3_640x360_318676035962.jpg\n",
            "Completed Image ====> 23.2880723-bob1.jpg\n",
            "Wrong image format returned. Skipping...\n",
            "Completed Image ====> 24.s-l300.jpg\n",
            "Completed Image ====> 25.sideshow-bob-the-simpsons-9.57.jpg\n",
            "Completed Image ====> 26.rs-198597-GettyImages-476905677.jpg\n",
            "Completed Image ====> 27.51EIIqbGezL._SX466_.jpg\n",
            "Completed Image ====> 28.MV5BZDgyN2RhNWMtODBkYi00OGI3LWI0NGMtNDQxMDA5NzFmM2I0XkEyXkFqcGdeQXVyNjcwMzEzMTU@._V1_UY268_CR87,0,182,268_AL_.jpg\n",
            "Completed Image ====> 29.bartbob.jpg\n",
            "Completed Image ====> 30.sideshow_bob_01_the_simpsons_51391.jpg\n",
            "Completed Image ====> 31.simphsons.jpg\n",
            "Completed Image ====> 32.sideshow-bob-the-simpsons-ride-32.3.jpg\n",
            "Completed Image ====> 33.maxresdefault.jpg\n",
            "Completed Image ====> 34.ustv-the-simpsons-sideshow-bob.jpg\n",
            "Completed Image ====> 35.c587ed73bfa6cf583275860f7b6aa025.jpg\n",
            "Completed Image ====> 36.imgbin-sideshow-bob-roberts-bart-simpson-krusty-the-clown-homer-simpson-the-simpsons-movie-the-simpson-character-illustration-56ACUQceGc02y87Rr3z7fFWRx.jpg\n",
            "Completed Image ====> 37.Simpsons_03_21_P5_640x360_289285699768.jpg\n",
            "Wrong image format returned. Skipping...\n",
            "Wrong image format returned. Skipping...\n",
            "Completed Image ====> 38.sideshow-bob-brother-from-another-series.jpg\n",
            "Completed Image ====> 39.iWGy8Dtj-600x338.jpg\n",
            "Completed Image ====> 40.Simpsons-Sideshow-Bob-hat-enamel-pin_large.jpg\n",
            "Completed Image ====> 41.The-Simpsons-582947.jpg\n",
            "Completed Image ====> 42.49e8401aad1a04870895136a26de90db0af0b09cv2_hq.jpg\n",
            "Completed Image ====> 43.hqdefault.jpg\n",
            "Completed Image ====> 44.SideshowBobRoberts-D0112.jpg\n",
            "Completed Image ====> 45.41IaSNSGr0L.jpg\n",
            "Wrong image format returned. Skipping...\n",
            "Completed Image ====> 46.Sideshow-Bob-and-Bart-Simpson.jpg\n",
            "Completed Image ====> 47.the-simpsons-sideshow-bob-kills-bart-simpson-treehouse-of-horror-halloween-episode.jpg\n",
            "Completed Image ====> 48.s-l300.jpg\n",
            "Completed Image ====> 49.sbob1-500x380.jpg\n",
            "Completed Image ====> 50.imgbin-sideshow-bob-bart-simpson-homer-simpson-mona-simpson-sideshow-mel-v-for-vendetta-J8rhMfqed97Ghed59K9n3fG9b.jpg\n",
            "Completed Image ====> 51.MV5BMTU1ODZhYWMtNWJhNC00MmUyLWE3ZjYtNDgyNDkzNzU2OWQ2XkEyXkFqcGdeQXVyNjcwMzEzMTU@._V1_UY1200_CR664,0,630,1200_AL_.jpg\n",
            "Completed Image ====> 52.simpsons-cape-feare.jpg\n",
            "Completed Image ====> 53.hqdefault.jpg\n",
            "Completed Image ====> 54.skskj.jpg\n",
            "Completed Image ====> 55.simpsons.jpg\n",
            "Completed Image ====> 56.maxresdefault.jpg\n",
            "Completed Image ====> 57.5fa3e3697f77f14d4d513fe1a64cecfc.jpg\n",
            "Completed Image ====> 58.jzg6ioowua6rsfhqrxzt.jpg\n",
            "Wrong image format returned. Skipping...\n",
            "Completed Image ====> 59.41PMM7PkSrL.jpg\n",
            "Completed Image ====> 60.simp_2618_t18-sc1012r_hires1.jpg\n",
            "Completed Image ====> 61.tumblr_o5z8b8L9S21t1y2yzo2_250.jpg\n",
            "Completed Image ====> 62.the-simpsons-tv-series-D31MC7.jpg\n",
            "Completed Image ====> 63.bart_opt_wodqc5.jpg\n",
            "Completed Image ====> 64.1474287769-simpsons-episodes-4.jpg\n",
            "Completed Image ====> 65.Simpsons_03_21_P1_640x360_289286723614.jpg\n",
            "Completed Image ====> 66.sideshowbob-0.jpg\n",
            "Completed Image ====> 67.image.JPG\n",
            "Completed Image ====> 68.799cdb8b850e30cbf2f3f9553d33100e.jpg\n",
            "Completed Image ====> 69.sbr5.jpg\n",
            "Completed Image ====> 70.maxresdefault.jpg\n",
            "Completed Image ====> 71.BobsGleamingWIDE.jpg\n",
            "Completed Image ====> 72.the_simpsons__sideshow_bob_lets_it_go_by_lizlovestoons12_d9wm9it-fullview.jpg\n",
            "Completed Image ====> 73.6b066b9a-e587-53ac-a674-faaa3897b55b-original.jpg\n",
            "Completed Image ====> 74.why-does-sideshow-bob-want-to-kill-bart-simpson.jpg\n",
            "Completed Image ====> 75.Sideshow-Bob-Wallpaper-sideshow-bob-1145065_1024_768.jpg\n",
            "Completed Image ====> 76.krusty-the-clown-lisa-simpson-bart-simpson-homer-simpson-sideshow-bob-the-simpsons.jpg\n",
            "Completed Image ====> 77.46f1daf40b4af97421c4535dc4f2ecc6fe5808b0r1-540-372v2_uhq.jpg\n",
            "Completed Image ====> 78.c20103ba-a063-4260-8b6e-1f70186447b6_screenshot.jpg\n",
            "Completed Image ====> 79.4221396001_4281941477001_4281007985001-vs.jpg\n",
            "Completed Image ====> 80.106.jpg\n",
            "Completed Image ====> 81.the_simpsons___sideshow_bob_gets_hit_by_a_train_by_dlee1293847_dc16ne4-fullview.jpg\n",
            "Completed Image ====> 82.grammerf11849.jpg\n",
            "Completed Image ====> 83.350517.jpg\n",
            "Completed Image ====> 84.watch-here-s-sideshow-bob-repeatedly-killing-bart-simpson-for-the-treehouse-of-horror-special.jpg\n",
            "Completed Image ====> 85.simpsonsg-630x420.jpg\n",
            "Completed Image ====> 86.135.jpg\n",
            "Completed Image ====> 87.png-lisa-simpson-bart-simpson-sideshow-bob-clip-art-ae.jpg\n",
            "Completed Image ====> 88.c9ee2dd6616dd040b6666547a163fb5b.jpg\n",
            "URLError on an image...trying next one... Error: HTTP Error 404: Not Found\n",
            "Wrong image format returned. Skipping...\n",
            "\n",
            "\n",
            "Unfortunately all 100 could not be downloaded because some images were not downloadable. 88 is all we got for this search filter!\n",
            "\n",
            "Errors: 12\n",
            "\n",
            "\n",
            "Item no.: 1 --> Item name = simpsons apu nahasapeemapetilon\n",
            "Evaluating...\n",
            "Starting Download...\n",
            "Completed Image ====> 1.0_The-Simpsons.jpg\n",
            "Completed Image ====> 2.apu.JPG\n",
            "Completed Image ====> 3.apu-nahasapeemapetilon-family-guy-30.3.jpg\n",
            "Completed Image ====> 4.apu1_mobile.jpg\n",
            "Completed Image ====> 5.maxresdefault.jpg\n",
            "Completed Image ====> 6.apu.jpg\n",
            "Completed Image ====> 7.180425193051-apu-simpsons-exlarge-169.jpg\n",
            "Completed Image ====> 8.apu-nahasapeemapetilon-the-simpsons-movie-8.64.jpg\n",
            "Completed Image ====> 9.79.jpg\n",
            "Completed Image ====> 10.9635982-3x2-700x467.jpg\n",
            "Completed Image ====> 11.1762015_0.jpg\n",
            "Completed Image ====> 12.apu-the-simpsons.jpg\n",
            "Wrong image format returned. Skipping...\n",
            "Completed Image ====> 13.p-the-simpsons-harry-shearer-apu-nahasapeemapetilon.jpg\n",
            "Completed Image ====> 14.apu-nahasapeemapetilon.jpg\n",
            "Completed Image ====> 15.apu-nahasapeemapetilon-the-simpsons.jpg\n",
            "Completed Image ====> 16.apu-Nahasapeemapetilon-simpsons-retiring-gq.jpg\n",
            "Completed Image ====> 17.171114074429-underrepresented-apu-exlarge-16-9.jpg\n",
            "Wrong image format returned. Skipping...\n",
            "Completed Image ====> 18.Hsu-Soft-Racism-of-Apu.jpg\n",
            "Completed Image ====> 19.the-simpsons.jpg\n",
            "Completed Image ====> 20.j84QUHM.jpg\n",
            "Completed Image ====> 21.Simpsons_11_07_P3_640x360_332554307921.jpg\n",
            "Completed Image ====> 22.apu-the-simpsons-animation-fox-thg-171113_12x5_608.jpg\n",
            "Completed Image ====> 23.maxresdefault.jpg\n",
            "Completed Image ====> 24.apu-the-simpsons.jpg\n",
            "Completed Image ====> 25.7fa5432afb80346b08782cf361863139.jpg\n",
            "Completed Image ====> 26.41lYH8jzv5L.jpg\n",
            "Completed Image ====> 27.imagev1ab1f0c628e3f87adc9dc784b85beedde-h2zcnn8jqx27q1fv6r2_ct1880x930.jpg\n",
            "Completed Image ====> 28.imgbin-apu-nahasapeemapetilon-the-simpsons-road-rage-bart-simpson-patty-bouvier-ralph-wiggum-bart-simpson-jKHDsEQFPmDx9Fx3H3yzmB52i.jpg\n",
            "Completed Image ====> 29.107080-lnwwnsssft-1543723318.jpg\n",
            "Completed Image ====> 30.79231-zbsqysskua-1516031557.jpg\n",
            "Completed Image ====> 31.the-sweetest-apu-nahasapeemapetilon.jpg\n",
            "Completed Image ====> 32.2813.jpg\n",
            "Completed Image ====> 33.hqdefault.jpg\n",
            "Completed Image ====> 34.apu-response.jpg\n",
            "Completed Image ====> 35.simpsons-apu-74985128.jpg\n",
            "Completed Image ====> 36.imgbin-maggie-simpson-lisa-simpson-marge-simpson-apu-nahasapeemapetilon-homer-simpson-bart-simpson-ScTCz9RHVjAj2659uFxvn4uWC.jpg\n",
            "Completed Image ====> 37.610HlIdWtlL._SY679_.jpg\n",
            "Completed Image ====> 38.xJd5BTts8nqXiAgw4ACcH5-320-80.jpg\n",
            "Completed Image ====> 39.1762015_0.jpg\n",
            "Completed Image ====> 40.apu-simpsons.jpg\n",
            "Completed Image ====> 41.apu_simpsons.jpg\n",
            "Completed Image ====> 42.3890158c396b32f75293402baf6b9b658be6ef3c_hq.jpg\n",
            "Completed Image ====> 43.81md3o9G7yL._SY679_.jpg\n",
            "Completed Image ====> 44.apu-nahasapeemapetilon-23079.jpg\n",
            "Completed Image ====> 45.maxresdefault.jpg\n",
            "Completed Image ====> 46.MV5BMTQ4OTc5NDUxOF5BMl5BanBnXkFtZTgwNjI3NTQ2MjE@._V1_UY1200_CR485,0,630,1200_AL_.jpg\n",
            "Completed Image ====> 47.Simpsons_25_07_P3_640x360_320593475898.jpg\n",
            "Completed Image ====> 48.apu-nahasapeemapetilon-the-simpsons-bowling-35.5.jpg\n",
            "Completed Image ====> 49.imgbin-homer-simpson-marge-simpson-lisa-simpson-bart-simpson-apu-nahasapeemapetilon-simpsons-G9Rxp40mHNTXw02DEyGRhGZez.jpg\n",
            "Completed Image ====> 50.apu-nahasapeemapetilon-the-simpsons-virtual-springfield-90.1.jpg\n",
            "Completed Image ====> 51.MV5BMGJjMzViZjktYmE3NC00M2YwLTk2YWEtZWMzZWZmNGNhNTI1XkEyXkFqcGdeQXVyMjYwNDA2MDE@._V1_UY1200_CR110,0,630,1200_AL_.jpg\n",
            "Completed Image ====> 52.kisspng-apu-nahasapeemapetilon-the-simpsons-tapped-out-ne-simpsons-5acf715d5245e7.941428181523544413337.jpg\n",
            "URLError on an image...trying next one... Error: HTTP Error 404: File Not Found\n",
            "Completed Image ====> 53.maxresdefault.jpg\n",
            "Completed Image ====> 54.31rtoZiWUeL.jpg\n",
            "Completed Image ====> 55.apu-nahasapeemapetilon-21051.jpg\n",
            "Completed Image ====> 56.AP_070702020879-1000x648.jpg\n",
            "Completed Image ====> 57.apu-nahasapeemapetilon-the-simpsons-ride-39.5.jpg\n",
            "Completed Image ====> 58.kisspng-homer-simpson-bart-simpson-marge-simpson-maggie-si-tamil-brahmin-5b3920f92327f1.047455931530470649144.jpg\n",
            "Completed Image ====> 59.Simpsons_21_21_P5_640x360_332225091963.jpg\n",
            "Completed Image ====> 60.apu_simpsons.jpg\n",
            "Completed Image ====> 61.imgbin-apu-nahasapeemapetilon-homer-simpson-santa-s-little-helper-the-simpsons-hit-run-television-show-fox-e41dstw7hvp911nzeXKEMwsqd.jpg\n",
            "Completed Image ====> 62.the-simpsons-hank-azaria-racism-politically-correct-Apu-Nahasapeemapetilon-951308.jpg\n",
            "Completed Image ====> 63.apu-nahasapeemapetilon-the-simpsons-hit-and-run-86.3.jpg\n",
            "Completed Image ====> 64.afb86eefb0fde66dba29aeb6ffe6a031.jpg\n",
            "Completed Image ====> 65.d93111bc8fb1e036d35cee7839ec6bb82c84fac9.jpg\n",
            "Completed Image ====> 66.9636020-3x2-700x467.jpg\n",
            "Completed Image ====> 67.kisspng-comic-book-guy-apu-nahasapeemapetilon-barney-gumbl-the-simpsons-5ac56141719867.2025220815228849294653.jpg\n",
            "Completed Image ====> 68.819sNUhLpzL._SX425_.jpg\n",
            "Completed Image ====> 69.$_57.jpg\n",
            "Completed Image ====> 70.apu-nahasapeemapetilon-the-simpsons-wrestling-97.7.jpg\n",
            "Wrong image format returned. Skipping...\n",
            "Completed Image ====> 71.the-sweetest-apu-nahasapeemapetilon.jpg\n",
            "Completed Image ====> 72.s-l640.jpg\n",
            "Wrong image format returned. Skipping...\n",
            "Completed Image ====> 73.wwww-apu-the-simpsons.jpg\n",
            "Completed Image ====> 74.Apu%20Nahasapeemapetilon%20wiki-1540707101.jpg\n",
            "Completed Image ====> 75.tumblr_ojp29mrf8V1vyvkp6o1_400.jpg\n",
            "Completed Image ====> 76.1762015_0.jpg\n",
            "Completed Image ====> 77.the-simpsons-tapped-out-apu-nahasapeemapetilon-marge-simpson-artie-ziff-comic-book-guy-homero.jpg\n",
            "Completed Image ====> 78.apu-nahasapeemapetilon-fat-tony-the-simpsons-tapped-out-moe-szyslak-barney-gumble-the-simpsons-movie.jpg\n",
            "Completed Image ====> 79.Apu-Nahasapeemapetilon.jpg\n",
            "Wrong image format returned. Skipping...\n",
            "Completed Image ====> 80.759c57c28fd9123122e9a89f6a2319aa.jpg\n",
            "Completed Image ====> 81.bart-simpson-sideshow-bob-apu-nahasapeemapetilon-homer-simpson-krusty-the-clown-bart-simpson.jpg\n",
            "Completed Image ====> 82.lego-apu-nahasapeemapetilon-with-name-tag-minifigure-25.jpg\n",
            "Completed Image ====> 83.2186.jpg\n",
            "Completed Image ====> 84.The-Simpsons-4%22-Apu-Nahasapeemapetilon-Collectible-Figure-by-Character-Options.jpg\n",
            "Completed Image ====> 85.apu-nahasapeemapetilon-edna-krabappel-youtube-maggie-simpson-child-youtube.jpg\n",
            "Completed Image ====> 86.apu71016A.jpg\n",
            "Completed Image ====> 87.otto-mann-bart-simpson-kearney-zzyzwicz-apu-nahasapeemapetilon-ned-flanders-the-simpsons.jpg\n",
            "Completed Image ====> 88.Apu-71005-Lego-Simpsons-Minifigure-1.jpg\n",
            "Completed Image ====> 89.kisspng-apu-nahasapeemapetilon-manjula-nahasapeemapetilon-sexy-mermaid-5b3eb6b2b64cf4.7720726515308366587467.jpg\n",
            "Completed Image ====> 90.the-simpsons---playmates---apu-nahasapeemapetilon---loose-figure-p-image-312321-grande.jpg\n",
            "Completed Image ====> 91.1451498425apu-nahasapeemapetilon-simpson.jpg\n",
            "Completed Image ====> 92.imgbin-reverend-lovejoy-apu-nahasapeemapetilon-homer-simpson-dr-hibbert-maggie-simpson-scary-lion-s-nSEVgxZt7pVa4iMT3buT77V25.jpg\n",
            "Completed Image ====> 93.1762015_0.jpg\n",
            "Completed Image ====> 94.skynews-homer-simpson-apu-the-simpsons_4278686.jpg\n",
            "\n",
            "\n",
            "Unfortunately all 100 could not be downloaded because some images were not downloadable. 94 is all we got for this search filter!\n",
            "\n",
            "Errors: 6\n",
            "\n",
            "\n",
            "Item no.: 1 --> Item name = simpsons abraham grampa simpson\n",
            "Evaluating...\n",
            "Starting Download...\n",
            "Completed Image ====> 1.12.jpg\n",
            "Completed Image ====> 2.MV5BMzMzYmYxNDEtZDcxYy00YWUwLWI1YTEtNWExODhjMTkxZDVkXkEyXkFqcGdeQXVyNjcwMzEzMTU@._V1_UY268_CR87,0,182,268_AL_.jpg\n",
            "Wrong image format returned. Skipping...\n",
            "Completed Image ====> 3.grandpa-simpson-300x218.jpg\n",
            "Completed Image ====> 4.maxresdefault.jpg\n",
            "Completed Image ====> 5.MV5BMzMzYmYxNDEtZDcxYy00YWUwLWI1YTEtNWExODhjMTkxZDVkXkEyXkFqcGdeQXVyNjcwMzEzMTU@._V1_.jpg\n",
            "Completed Image ====> 6.maxresdefault.jpg\n",
            "Completed Image ====> 7.41KTFFJX5CL._SY450_.jpg\n",
            "Completed Image ====> 8.514dw3%2B2yQL._SY445_.jpg\n",
            "Completed Image ====> 9.abe_old01.jpg\n",
            "Completed Image ====> 10.In_the_Name_of_the_Grandfather.jpg\n",
            "Completed Image ====> 11.b9b59a409694c9c6da691e14e9808129.jpg\n",
            "Completed Image ====> 12.grampatonic.jpg\n",
            "Completed Image ====> 13.grampasimpson_1.jpg\n",
            "Wrong image format returned. Skipping...\n",
            "Completed Image ====> 14.rs-18072-simpsons-624-1380727300.jpg\n",
            "Completed Image ====> 15.the-simpsons-grandpa-cane1.jpg\n",
            "Wrong image format returned. Skipping...\n",
            "Wrong image format returned. Skipping...\n",
            "Completed Image ====> 16.Simpsons_07_21.jpg\n",
            "Completed Image ====> 17.ad_117122705.jpg\n",
            "Completed Image ====> 18.FUN33881--Simpsons-Abe-Pop_600x600.jpg\n",
            "Completed Image ====> 19.maxresdefault.jpg\n",
            "Completed Image ====> 20.lego-minifigure-collection-lego-simpsons-series-loose-grampa-coming-soon-17__67482.1461309656.jpg\n",
            "Completed Image ====> 21.a1f26bf5-59b5-4bb4-8e53-38a1838108c4.jpg\n",
            "Completed Image ====> 22.tumblr_pnott1YWjZ1x71of3o1_400.jpg\n",
            "Wrong image format returned. Skipping...\n",
            "Completed Image ====> 23.07.jpg\n",
            "Completed Image ====> 24.abe_simpson__the_simpsons___2_by_frasier_and_niles_d8w2w1d-fullview.jpg\n",
            "Completed Image ====> 25.Simpsons_07_21_P4_640x360_321120323529.jpg\n",
            "Completed Image ====> 26.97b8e654455518970b8c2752bdfcbf5a.jpg\n",
            "Completed Image ====> 27.Abe-Simpson-4.jpg\n",
            "Completed Image ====> 28.maxresdefault.jpg\n",
            "Completed Image ====> 29.grampa_vs_sexual_inadequacy_promo_picture_2.jpg\n",
            "Wrong image format returned. Skipping...\n",
            "Wrong image format returned. Skipping...\n",
            "Completed Image ====> 30.abe-simpson-and-rita-lafleur.jpg\n",
            "Completed Image ====> 31.imgbin-grampa-simpson-homer-simpson-marge-simpson-lisa-simpson-bart-simpson-the-simpsons-the-simpsons-abraham-simpson-qPXjfrW8Vfzw2T1Kkm2nN8szg.jpg\n",
            "Wrong image format returned. Skipping...\n",
            "Completed Image ====> 32.51TgKPPS0aL._AC_SY400_.jpg\n",
            "Completed Image ====> 33.image.jpg\n",
            "Completed Image ====> 34.grandpa_picture_01085618_full.jpg\n",
            "URLError on an image...trying next one... Error: HTTP Error 403: Forbidden\n",
            "Completed Image ====> 35.Funko-Pop-Abe-Grampa-Simpson-499-Nib-Mint-The.jpg\n",
            "Completed Image ====> 36.3045305-crazy%20old%20jewish%20man.jpg\n",
            "Completed Image ====> 37.Abe_-_3_1200x1200.jpg\n",
            "Completed Image ====> 38.abraham-simpson-the-simpsons-movie-58.4.jpg\n",
            "Completed Image ====> 39.8d1e04f12414acdc188127cb4715f661.jpg\n",
            "Completed Image ====> 40.frame232.jpg\n",
            "Completed Image ====> 41.image.jpg\n",
            "Completed Image ====> 42.f7e.jpg\n",
            "Completed Image ====> 43.DentalHighlevelHerring-mobile.jpg\n",
            "Completed Image ====> 44.s-l300.jpg\n",
            "Completed Image ====> 45.Abraham_Grampa_Simpson.jpg\n",
            "Completed Image ====> 46.6582377845521632580.jpg\n",
            "Completed Image ====> 47.imgbin-the-simpsons-tapped-out-grampa-simpson-springfield-retirement-castle-the-simpsons-game-abraham-simpson-AQzuGu44K6N5pWA6JVz6ZNFY3.jpg\n",
            "Completed Image ====> 48.IMG_0674.JPG\n",
            "Completed Image ====> 49.depositphotos_101570576-stock-photo-young-abe-simpson-figurine.jpg\n",
            "Completed Image ====> 50.BlackLotus9.com_Funko_Pop__TheSimpsons_Series2_GrampaAbeSimpson_BLOG_1_large.jpg\n",
            "Completed Image ====> 51.29014.jpg\n",
            "Completed Image ====> 52.the-simpsons-from-left-marge-simpson-maggie-simpson-in-lap-lisa-simpson-HD8Y12.jpg\n",
            "Wrong image format returned. Skipping...\n",
            "Completed Image ====> 53.72a5a291-e84f-4ee9-9b0f-b73cc63806c8_tn.jpg\n",
            "Completed Image ====> 54.abe_old02.jpg\n",
            "Completed Image ====> 55.Simpsons_07_21_P2_640x360_321120323541.jpg\n",
            "Completed Image ====> 56.who-shot-mr-burns-the-simpsons.jpg\n",
            "Wrong image format returned. Skipping...\n",
            "Completed Image ====> 57.1038_grandpas.jpg\n",
            "Completed Image ====> 58.Funko-POP-Animation-Simpsons-Collectors-Set-2-Grandpa-Abe-Simpson-Moe-Szyslak-Mr.-Burns-09a31830-02c1-468a-a2e8-df5e4fb2618e.jpg\n",
            "Completed Image ====> 59.48008e75650817b6aa05323c30342183.jpg\n",
            "Wrong image format returned. Skipping...\n",
            "Completed Image ====> 60.chief-wiggum-barney-gumble-nelson-muntz-homer-simpson-grampa-simpson-the-simpsons-movie-thumb.jpg\n",
            "Completed Image ====> 61.Del-Monte-Peas.jpg\n",
            "Completed Image ====> 62.MV5BZjE2ZWM5MTAtODgwMC00ZmUxLWExZDYtZDNmZWM0MDIyYjFlXkEyXkFqcGdeQXVyNjcwMzEzMTU@._V1_UY1200_CR475,0,630,1200_AL_.jpg\n",
            "Completed Image ====> 63.D-07167-0002-xxl.jpg\n",
            "Completed Image ====> 64.abe-simpson-complains-520x245.jpg\n",
            "Completed Image ====> 65.e8PakZaEOVoDzmPFPIMQj1g0Nhd2dR1NA8loeFhh91s.jpg\n",
            "Completed Image ====> 66.3868864.jpg\n",
            "Wrong image format returned. Skipping...\n",
            "Completed Image ====> 67.abe-and-homer.jpg\n",
            "Completed Image ====> 68.hqdefault.jpg\n",
            "Completed Image ====> 69.the-simpsons-s7e22-20090309155539_625x352.jpg\n",
            "Completed Image ====> 70.thumb-350-779651.jpg\n",
            "Completed Image ====> 71.the-simpsons-season-29-episode-5.jpg\n",
            "Completed Image ====> 72.200px-Mona_Simpson_-_first_appearance.jpg\n",
            "Completed Image ====> 73.Abe-Simpson-2.jpg\n",
            "Completed Image ====> 74.1168353649.jpg\n",
            "Wrong image format returned. Skipping...\n",
            "Wrong image format returned. Skipping...\n",
            "Completed Image ====> 75.XH7by.jpg\n",
            "Completed Image ====> 76.image010.jpg\n",
            "Completed Image ====> 77.giphy-facebook_s.jpg\n",
            "Completed Image ====> 78.1bqvxg.jpg\n",
            "Completed Image ====> 79.abraham-simpson-the-tracey-ullman-show-69.8.jpg\n",
            "Completed Image ====> 80.Funko-Pop-Grampa-Abe-Simpson-The-Simpsons-Grandpa.jpg\n",
            "Completed Image ====> 81.1431110556Simpsons+Grandpa.JPG\n",
            "Completed Image ====> 82.LEGO-Abe-Simpsons-Minifigure.jpg\n",
            "Completed Image ====> 83.Grampa-Simpson-2.jpg\n",
            "Wrong image format returned. Skipping...\n",
            "Completed Image ====> 84.1474287769-simpsons-episodes-4.jpg\n",
            "\n",
            "\n",
            "Unfortunately all 100 could not be downloaded because some images were not downloadable. 84 is all we got for this search filter!\n",
            "\n",
            "Errors: 16\n",
            "\n"
          ],
          "name": "stdout"
        }
      ]
    },
    {
      "cell_type": "markdown",
      "metadata": {
        "id": "uC1Iov6DVS-U",
        "colab_type": "text"
      },
      "source": [
        "Now we wish to store the images in a directory structure such that they can be used with the `ImageDataGenerator flow_from_directory`.\n",
        "\n",
        "The below function will help us transfer data from a directory and split it into two different directories (a training and validation set) randomly and at a ratio you specify."
      ]
    },
    {
      "cell_type": "code",
      "metadata": {
        "id": "i600mSVoVsU1",
        "colab_type": "code",
        "colab": {}
      },
      "source": [
        "def split_data(SOURCE, TRAINING, TESTING, SPLIT_SIZE):\n",
        "  files_list = os.listdir(SOURCE)\n",
        "  files_list = random.sample(files_list, len(files_list))\n",
        "  \n",
        "  for file in files_list:\n",
        "    file_path = SOURCE + file\n",
        "    if os.path.getsize(file_path) <= 0:\n",
        "      files_list.remove(file)\n",
        "      print(file + \" is zero length, so ignoring.\") \n",
        "\n",
        "  n = int(SPLIT_SIZE * len(files_list))\n",
        "  \n",
        "  for file in files_list[0:n]:\n",
        "    shutil.copyfile(SOURCE + file, TRAINING + file)\n",
        "      \n",
        "  for file in files_list[n:]:\n",
        "    shutil.copyfile(SOURCE + file, TESTING + file)\n",
        " "
      ],
      "execution_count": 0,
      "outputs": []
    },
    {
      "cell_type": "code",
      "metadata": {
        "id": "kYe6w5BcWAtb",
        "colab_type": "code",
        "colab": {}
      },
      "source": [
        "# Creating the directory structure for ImageDataGenerator\n",
        "base_dir = '/content/simpsons_generator'\n",
        "os.mkdir(base_dir)\n",
        "\n",
        "train_dir = os.path.join(base_dir, 'training')\n",
        "validation_dir = os.path.join(base_dir, 'validation')\n",
        "os.mkdir(train_dir)\n",
        "os.mkdir(validation_dir)\n",
        "\n",
        "characters = os.listdir('/content/simpsons/simpsons_dataset/simpsons_dataset')\n",
        "split_size = .9\n",
        "\n",
        "for character in characters:\n",
        "  char_train_dir = os.path.join(train_dir, character)\n",
        "  char_vald_dir = os.path.join(validation_dir, character)\n",
        "  os.mkdir(char_train_dir)\n",
        "  os.mkdir(char_vald_dir)\n",
        "  \n",
        "  source_dir = '/content/simpsons/simpsons_dataset/simpsons_dataset/' + character + '/'\n",
        "  \n",
        "  split_data(source_dir, char_train_dir + '/', char_vald_dir + '/', split_size)"
      ],
      "execution_count": 0,
      "outputs": []
    },
    {
      "cell_type": "markdown",
      "metadata": {
        "id": "zlhsZAuQc5VE",
        "colab_type": "text"
      },
      "source": [
        "We also wish to split the contents of the test data in /content/simpsons/kaggle_simpson_testset/kaggle_simpson_testset into a \"testing\" folder in our new directory.\n",
        "\n",
        "**START HERE**\n",
        "- Need to check if image is in `character_observations_sub_dict` and if it is then transfer it to the correct folder."
      ]
    },
    {
      "cell_type": "code",
      "metadata": {
        "id": "Z4xPUvvXdGJF",
        "colab_type": "code",
        "colab": {
          "base_uri": "https://localhost:8080/",
          "height": 850
        },
        "outputId": "1822881a-c1a7-4f3b-ecd9-108ed4a5b143"
      },
      "source": [
        "images_list = os.listdir('/content/simpsons/kaggle_simpson_testset/kaggle_simpson_testset/')\n",
        "print(len(images_list))\n",
        "for image in images_list:\n",
        "  if image.find('abraham_grampa_simpson') != -1:\n",
        "    print(image)"
      ],
      "execution_count": 113,
      "outputs": [
        {
          "output_type": "stream",
          "text": [
            "990\n",
            "abraham_grampa_simpson_12.jpg\n",
            "abraham_grampa_simpson_13.jpg\n",
            "abraham_grampa_simpson_36.jpg\n",
            "abraham_grampa_simpson_31.jpg\n",
            "abraham_grampa_simpson_10.jpg\n",
            "abraham_grampa_simpson_38.jpg\n",
            "abraham_grampa_simpson_27.jpg\n",
            "abraham_grampa_simpson_9.jpg\n",
            "abraham_grampa_simpson_46.jpg\n",
            "abraham_grampa_simpson_34.jpg\n",
            "abraham_grampa_simpson_8.jpg\n",
            "abraham_grampa_simpson_3.jpg\n",
            "abraham_grampa_simpson_49.jpg\n",
            "abraham_grampa_simpson_19.jpg\n",
            "abraham_grampa_simpson_42.jpg\n",
            "abraham_grampa_simpson_39.jpg\n",
            "abraham_grampa_simpson_16.jpg\n",
            "abraham_grampa_simpson_32.jpg\n",
            "abraham_grampa_simpson_7.jpg\n",
            "abraham_grampa_simpson_28.jpg\n",
            "abraham_grampa_simpson_1.jpg\n",
            "abraham_grampa_simpson_43.jpg\n",
            "abraham_grampa_simpson_18.jpg\n",
            "abraham_grampa_simpson_47.jpg\n",
            "abraham_grampa_simpson_26.jpg\n",
            "abraham_grampa_simpson_29.jpg\n",
            "abraham_grampa_simpson_44.jpg\n",
            "abraham_grampa_simpson_2.jpg\n",
            "abraham_grampa_simpson_48.jpg\n",
            "abraham_grampa_simpson_21.jpg\n",
            "abraham_grampa_simpson_25.jpg\n",
            "abraham_grampa_simpson_33.jpg\n",
            "abraham_grampa_simpson_0.jpg\n",
            "abraham_grampa_simpson_37.jpg\n",
            "abraham_grampa_simpson_22.jpg\n",
            "abraham_grampa_simpson_17.jpg\n",
            "abraham_grampa_simpson_23.jpg\n",
            "abraham_grampa_simpson_11.jpg\n",
            "abraham_grampa_simpson_15.jpg\n",
            "abraham_grampa_simpson_40.jpg\n",
            "abraham_grampa_simpson_35.jpg\n",
            "abraham_grampa_simpson_45.jpg\n",
            "abraham_grampa_simpson_30.jpg\n",
            "abraham_grampa_simpson_41.jpg\n",
            "abraham_grampa_simpson_24.jpg\n",
            "abraham_grampa_simpson_14.jpg\n",
            "abraham_grampa_simpson_20.jpg\n",
            "abraham_grampa_simpson_4.jpg\n"
          ],
          "name": "stdout"
        }
      ]
    },
    {
      "cell_type": "markdown",
      "metadata": {
        "id": "ZaJbjOjaZhQk",
        "colab_type": "text"
      },
      "source": [
        "# Saving to Google Drive"
      ]
    },
    {
      "cell_type": "code",
      "metadata": {
        "id": "X4oh8TbEaCEO",
        "colab_type": "code",
        "colab": {}
      },
      "source": [
        "# 1. Authenticate and create the PyDrive client.\n",
        "auth.authenticate_user()\n",
        "gauth = GoogleAuth()\n",
        "gauth.credentials = GoogleCredentials.get_application_default()\n",
        "drive = GoogleDrive(gauth)"
      ],
      "execution_count": 0,
      "outputs": []
    },
    {
      "cell_type": "code",
      "metadata": {
        "id": "rAuxFbbZbI-i",
        "colab_type": "code",
        "colab": {}
      },
      "source": [
        "zipname = 'simpsons_generator_directory'\n",
        "\n",
        "def zipfolder(foldername, target_dir):            \n",
        "    zipobj = zipfile.ZipFile(foldername + '.zip', 'w', zipfile.ZIP_DEFLATED)\n",
        "    rootlen = len(target_dir) + 1\n",
        "    for base, dirs, files in os.walk(target_dir):\n",
        "        for file in files:\n",
        "            fn = os.path.join(base, file)\n",
        "            zipobj.write(fn, fn[rootlen:])\n",
        "\n",
        "zipfolder(zipname, '/content/simpsons/simpsons_dataset/simpsons_dataset/fat_tony')\n",
        "\n",
        "# 2. Create & upload a file text file.\n",
        "file1 = drive.CreateFile()\n",
        "file1.SetContentFile(zipname+\".zip\")\n",
        "file1.Upload()"
      ],
      "execution_count": 0,
      "outputs": []
    },
    {
      "cell_type": "markdown",
      "metadata": {
        "id": "C7EXIco8Velt",
        "colab_type": "text"
      },
      "source": [
        "* Split data into training and testing folders\n",
        "* Define a model\n",
        "* Use something like \n",
        "\n",
        "`TRAINING_DIR = \"/tmp/cats-v-dogs/training/\"\n",
        "train_datagen = ImageDataGenerator(rescale=1.0/255.)\n",
        "train_generator = train_datagen.flow_from_directory(TRAINING_DIR,\n",
        "                                                    batch_size=100,\n",
        "                                                    class_mode='binary',\n",
        "                                                    target_size=(150, 150))`\n"
      ]
    },
    {
      "cell_type": "code",
      "metadata": {
        "id": "LCCJMdw_CgCp",
        "colab_type": "code",
        "colab": {}
      },
      "source": [
        "\"\"\"\n",
        "Use this code to delete a directory is required\n",
        "\"\"\"\n",
        "import shutil\n",
        "\n",
        "shutil.rmtree('/content/simpsons/training')"
      ],
      "execution_count": 0,
      "outputs": []
    }
  ]
}