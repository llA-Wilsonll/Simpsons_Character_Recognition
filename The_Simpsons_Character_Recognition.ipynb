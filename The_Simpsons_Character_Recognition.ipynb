{
  "nbformat": 4,
  "nbformat_minor": 0,
  "metadata": {
    "colab": {
      "name": "The_Simpsons_Character_Recognition",
      "provenance": [],
      "collapsed_sections": [],
      "include_colab_link": true
    },
    "kernelspec": {
      "name": "python3",
      "display_name": "Python 3"
    },
    "accelerator": "GPU"
  },
  "cells": [
    {
      "cell_type": "markdown",
      "metadata": {
        "id": "view-in-github",
        "colab_type": "text"
      },
      "source": [
        "<a href=\"https://colab.research.google.com/github/llA-Wilsonll/Simpsons_Character_Recognition/blob/master/The_Simpsons_Character_Recognition.ipynb\" target=\"_parent\"><img src=\"https://colab.research.google.com/assets/colab-badge.svg\" alt=\"Open In Colab\"/></a>"
      ]
    },
    {
      "cell_type": "markdown",
      "metadata": {
        "id": "zKXFeUEjccE5",
        "colab_type": "text"
      },
      "source": [
        "# Loading the Data"
      ]
    },
    {
      "cell_type": "markdown",
      "metadata": {
        "id": "R8s-HjbJckAq",
        "colab_type": "text"
      },
      "source": [
        "Importing the required packages"
      ]
    },
    {
      "cell_type": "code",
      "metadata": {
        "id": "NXAWIJwAQA9T",
        "colab_type": "code",
        "colab": {}
      },
      "source": [
        "import os\n",
        "import zipfile\n",
        "import sys\n",
        "import shutil\n",
        "import random\n",
        "import re"
      ],
      "execution_count": 0,
      "outputs": []
    },
    {
      "cell_type": "markdown",
      "metadata": {
        "id": "PkgsAOcTb41J",
        "colab_type": "text"
      },
      "source": [
        "Upload the kaggle json Key which allows us to download data from Kaggle."
      ]
    },
    {
      "cell_type": "code",
      "metadata": {
        "id": "ozjER4sEO8-3",
        "colab_type": "code",
        "colab": {
          "resources": {
            "http://localhost:8080/nbextensions/google.colab/files.js": {
              "data": "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",
              "ok": true,
              "headers": [
                [
                  "content-type",
                  "application/javascript"
                ]
              ],
              "status": 200,
              "status_text": ""
            }
          },
          "base_uri": "https://localhost:8080/",
          "height": 111
        },
        "outputId": "9bcbb3bd-6ed5-4fcd-c7d4-f02a85639bc3"
      },
      "source": [
        "from google.colab import files\n",
        "files.upload()  #this will prompt you to upload the kaggle.json"
      ],
      "execution_count": 3,
      "outputs": [
        {
          "output_type": "display_data",
          "data": {
            "text/html": [
              "\n",
              "     <input type=\"file\" id=\"files-b4b6f638-97e9-4906-ac47-55b6710b8307\" name=\"files[]\" multiple disabled />\n",
              "     <output id=\"result-b4b6f638-97e9-4906-ac47-55b6710b8307\">\n",
              "      Upload widget is only available when the cell has been executed in the\n",
              "      current browser session. Please rerun this cell to enable.\n",
              "      </output>\n",
              "      <script src=\"/nbextensions/google.colab/files.js\"></script> "
            ],
            "text/plain": [
              "<IPython.core.display.HTML object>"
            ]
          },
          "metadata": {
            "tags": []
          }
        },
        {
          "output_type": "stream",
          "text": [
            "Saving kaggle.json to kaggle.json\n"
          ],
          "name": "stdout"
        },
        {
          "output_type": "execute_result",
          "data": {
            "text/plain": [
              "{'kaggle.json': b'{\"username\":\"aaroncwilson\",\"key\":\"8fd509bef31a87eec6f17681d818cf03\"}'}"
            ]
          },
          "metadata": {
            "tags": []
          },
          "execution_count": 3
        }
      ]
    },
    {
      "cell_type": "markdown",
      "metadata": {
        "id": "mtEiyKWlcNwP",
        "colab_type": "text"
      },
      "source": [
        "The following packages are used so we can save files from Colab to Google Drive and vice versa."
      ]
    },
    {
      "cell_type": "code",
      "metadata": {
        "id": "htlABCbKb0pg",
        "colab_type": "code",
        "colab": {}
      },
      "source": [
        "from pydrive.auth import GoogleAuth\n",
        "from pydrive.drive import GoogleDrive\n",
        "from google.colab import auth\n",
        "from oauth2client.client import GoogleCredentials"
      ],
      "execution_count": 0,
      "outputs": []
    },
    {
      "cell_type": "markdown",
      "metadata": {
        "id": "1rrTvem2UvJj",
        "colab_type": "text"
      },
      "source": [
        "Installing a package that will allow us to search for images."
      ]
    },
    {
      "cell_type": "code",
      "metadata": {
        "id": "RUFkges6iDSO",
        "colab_type": "code",
        "colab": {
          "base_uri": "https://localhost:8080/",
          "height": 258
        },
        "outputId": "c3fbae09-caec-4ad0-d656-7ad3e542d971"
      },
      "source": [
        "pip install google_images_download"
      ],
      "execution_count": 11,
      "outputs": [
        {
          "output_type": "stream",
          "text": [
            "Collecting google_images_download\n",
            "  Downloading https://files.pythonhosted.org/packages/18/ed/0319d30c48f3653802da8e6dcfefcea6370157d10d566ef6807cceb5ec4d/google_images_download-2.8.0.tar.gz\n",
            "Collecting selenium\n",
            "\u001b[?25l  Downloading https://files.pythonhosted.org/packages/80/d6/4294f0b4bce4de0abf13e17190289f9d0613b0a44e5dd6a7f5ca98459853/selenium-3.141.0-py2.py3-none-any.whl (904kB)\n",
            "\u001b[K     |████████████████████████████████| 911kB 4.2MB/s \n",
            "\u001b[?25hRequirement already satisfied: urllib3 in /usr/local/lib/python3.6/dist-packages (from selenium->google_images_download) (1.24.3)\n",
            "Building wheels for collected packages: google-images-download\n",
            "  Building wheel for google-images-download (setup.py) ... \u001b[?25l\u001b[?25hdone\n",
            "  Created wheel for google-images-download: filename=google_images_download-2.8.0-py2.py3-none-any.whl size=14550 sha256=7d33940ffc192a63cc6a3e30dc70a262f9a495834f07ed3e965c81b229dcbcae\n",
            "  Stored in directory: /root/.cache/pip/wheels/1f/28/ad/f56e7061e1d2a9a1affe2f9c649c2570cb9198dd24ede0bbab\n",
            "Successfully built google-images-download\n",
            "Installing collected packages: selenium, google-images-download\n",
            "Successfully installed google-images-download-2.8.0 selenium-3.141.0\n"
          ],
          "name": "stdout"
        }
      ]
    },
    {
      "cell_type": "code",
      "metadata": {
        "id": "hyKp0UCSU8Kp",
        "colab_type": "code",
        "colab": {}
      },
      "source": [
        "from google_images_download import google_images_download   #importing the library"
      ],
      "execution_count": 0,
      "outputs": []
    },
    {
      "cell_type": "markdown",
      "metadata": {
        "id": "OqntY8sicu1C",
        "colab_type": "text"
      },
      "source": [
        "## Downloading the Kaggle Dataset\n",
        "We start by downloading the dataset prepared by alexattia on Kaggle: https://www.kaggle.com/alexattia/the-simpsons-characters-dataset"
      ]
    },
    {
      "cell_type": "code",
      "metadata": {
        "id": "KS2sikmrPkt_",
        "colab_type": "code",
        "colab": {
          "base_uri": "https://localhost:8080/",
          "height": 34
        },
        "outputId": "4140a56c-93cc-460d-f1a1-4fd6f25a5faf"
      },
      "source": [
        "!pip install -q kaggle\n",
        "!mkdir -p ~/.kaggle\n",
        "!cp kaggle.json ~/.kaggle/\n",
        "!ls ~/.kaggle\n",
        "!chmod 600 /root/.kaggle/kaggle.json  # set permission"
      ],
      "execution_count": 5,
      "outputs": [
        {
          "output_type": "stream",
          "text": [
            "kaggle.json\n"
          ],
          "name": "stdout"
        }
      ]
    },
    {
      "cell_type": "code",
      "metadata": {
        "id": "wm6_aK04Psnp",
        "colab_type": "code",
        "colab": {
          "base_uri": "https://localhost:8080/",
          "height": 68
        },
        "outputId": "11e6886a-4db1-4f84-ebad-63a89737351d"
      },
      "source": [
        "!kaggle datasets download -d alexattia/the-simpsons-characters-dataset -p /content/"
      ],
      "execution_count": 6,
      "outputs": [
        {
          "output_type": "stream",
          "text": [
            "Downloading the-simpsons-characters-dataset.zip to /content\n",
            "100% 1.07G/1.08G [00:34<00:00, 33.6MB/s]\n",
            "100% 1.08G/1.08G [00:34<00:00, 33.7MB/s]\n"
          ],
          "name": "stdout"
        }
      ]
    },
    {
      "cell_type": "markdown",
      "metadata": {
        "id": "gXUvvksPdBym",
        "colab_type": "text"
      },
      "source": [
        "We then create the directory where we want to store the data and then unzip the file we downloaded into it."
      ]
    },
    {
      "cell_type": "code",
      "metadata": {
        "id": "wBc2H98AQFdF",
        "colab_type": "code",
        "colab": {}
      },
      "source": [
        "os.mkdir('/content/simpsons/')"
      ],
      "execution_count": 0,
      "outputs": []
    },
    {
      "cell_type": "code",
      "metadata": {
        "id": "FkDLGlRNRF1D",
        "colab_type": "code",
        "colab": {}
      },
      "source": [
        "local_zip = '/content/the-simpsons-characters-dataset.zip'\n",
        "zip_ref = zipfile.ZipFile(local_zip, 'r')\n",
        "zip_ref.extractall('/content/simpsons')\n",
        "zip_ref.close()"
      ],
      "execution_count": 0,
      "outputs": []
    },
    {
      "cell_type": "markdown",
      "metadata": {
        "id": "Kh8clcBUdPS1",
        "colab_type": "text"
      },
      "source": [
        "To get an idea of how many images we have of each character we run the below code."
      ]
    },
    {
      "cell_type": "code",
      "metadata": {
        "id": "AsTGmDzcFHma",
        "colab_type": "code",
        "colab": {
          "base_uri": "https://localhost:8080/",
          "height": 748
        },
        "outputId": "e9c24087-0774-46f7-84d1-911373ebdf08"
      },
      "source": [
        "characters = os.listdir('/content/simpsons/simpsons_dataset/simpsons_dataset')\n",
        "print('There are ' + str(len(characters)) + ' characters.')\n",
        "\n",
        "# Creating a dictionary to store the number of images per character\n",
        "character_observations_dict = {}\n",
        "for character in characters:\n",
        "  num_images = len(os.listdir('/content/simpsons/simpsons_dataset/simpsons_dataset/' \n",
        "                              + character))\n",
        "  character_observations_dict[character] = num_images\n",
        "  \n",
        "listofTuples = sorted(character_observations_dict.items(), reverse=True,\n",
        "                      key=lambda x: x[1])\n",
        " \n",
        "# Iterate over the sorted sequence\n",
        "for elem in listofTuples :\n",
        "    print(\"{0:<26}{1:^2}{2:>13}\".format(elem[0],\"::\", str(elem[1]) + \" images.\"))"
      ],
      "execution_count": 9,
      "outputs": [
        {
          "output_type": "stream",
          "text": [
            "There are 42 characters.\n",
            "homer_simpson             :: 2246 images.\n",
            "ned_flanders              :: 1454 images.\n",
            "moe_szyslak               :: 1452 images.\n",
            "lisa_simpson              :: 1354 images.\n",
            "bart_simpson              :: 1342 images.\n",
            "marge_simpson             :: 1291 images.\n",
            "krusty_the_clown          :: 1206 images.\n",
            "principal_skinner         :: 1194 images.\n",
            "charles_montgomery_burns  :: 1193 images.\n",
            "milhouse_van_houten       :: 1079 images.\n",
            "chief_wiggum              ::  986 images.\n",
            "abraham_grampa_simpson    ::  913 images.\n",
            "sideshow_bob              ::  877 images.\n",
            "apu_nahasapeemapetilon    ::  623 images.\n",
            "kent_brockman             ::  498 images.\n",
            "comic_book_guy            ::  469 images.\n",
            "edna_krabappel            ::  457 images.\n",
            "nelson_muntz              ::  358 images.\n",
            "lenny_leonard             ::  310 images.\n",
            "mayor_quimby              ::  246 images.\n",
            "waylon_smithers           ::  181 images.\n",
            "maggie_simpson            ::  128 images.\n",
            "groundskeeper_willie      ::  121 images.\n",
            "barney_gumble             ::  106 images.\n",
            "selma_bouvier             ::  103 images.\n",
            "carl_carlson              ::   98 images.\n",
            "ralph_wiggum              ::   89 images.\n",
            "patty_bouvier             ::   72 images.\n",
            "martin_prince             ::   71 images.\n",
            "professor_john_frink      ::   65 images.\n",
            "snake_jailbird            ::   55 images.\n",
            "cletus_spuckler           ::   47 images.\n",
            "rainier_wolfcastle        ::   45 images.\n",
            "agnes_skinner             ::   42 images.\n",
            "sideshow_mel              ::   40 images.\n",
            "otto_mann                 ::   32 images.\n",
            "fat_tony                  ::   27 images.\n",
            "gil                       ::   27 images.\n",
            "miss_hoover               ::   17 images.\n",
            "disco_stu                 ::    8 images.\n",
            "troy_mcclure              ::    8 images.\n",
            "lionel_hutz               ::    3 images.\n"
          ],
          "name": "stdout"
        }
      ]
    },
    {
      "cell_type": "markdown",
      "metadata": {
        "id": "wBwpxV2zeKI6",
        "colab_type": "text"
      },
      "source": [
        "## Searching for more data\n",
        "As we can see in the above, some characters like Homer, Ned, Moe etc. have more than 1000 images whereas Lionel Hutz and Troy McClure have less then 10.\n",
        "\n",
        "Ideally we want to balance the number of images per class (character) somewhat and so we will first get rid of a few characters which have a low number of images. Then we will use the `google_images_download` package to search for more images for some characters."
      ]
    },
    {
      "cell_type": "code",
      "metadata": {
        "id": "1jhxao6m4Fk1",
        "colab_type": "code",
        "colab": {
          "base_uri": "https://localhost:8080/",
          "height": 272
        },
        "outputId": "da1ea159-7a3e-47de-b905-d2b2430e1910"
      },
      "source": [
        "character_observations_sub_dict = {}\n",
        "\n",
        "for character, num_images in character_observations_dict.items():\n",
        "  if num_images >= 500:\n",
        "    character_observations_sub_dict[character] = num_images\n",
        "  else:\n",
        "    shutil.rmtree('/content/simpsons/simpsons_dataset/simpsons_dataset/' + character)\n",
        "\n",
        "characters = os.listdir('/content/simpsons/simpsons_dataset/simpsons_dataset')\n",
        "print('There are now ' + str(len(characters)) + ' characters.')\n",
        "    \n",
        "listofTuples = sorted(character_observations_sub_dict.items(), reverse=True,\n",
        "                      key=lambda x: x[1])\n",
        " \n",
        "# Iterate over the sorted sequence\n",
        "for elem in listofTuples :\n",
        "    print(\"{0:<26}{1:^2}{2:>13}\".format(elem[0],\"::\", str(elem[1]) + \" images.\"))\n"
      ],
      "execution_count": 10,
      "outputs": [
        {
          "output_type": "stream",
          "text": [
            "There are now 14 characters.\n",
            "homer_simpson             :: 2246 images.\n",
            "ned_flanders              :: 1454 images.\n",
            "moe_szyslak               :: 1452 images.\n",
            "lisa_simpson              :: 1354 images.\n",
            "bart_simpson              :: 1342 images.\n",
            "marge_simpson             :: 1291 images.\n",
            "krusty_the_clown          :: 1206 images.\n",
            "principal_skinner         :: 1194 images.\n",
            "charles_montgomery_burns  :: 1193 images.\n",
            "milhouse_van_houten       :: 1079 images.\n",
            "chief_wiggum              ::  986 images.\n",
            "abraham_grampa_simpson    ::  913 images.\n",
            "sideshow_bob              ::  877 images.\n",
            "apu_nahasapeemapetilon    ::  623 images.\n"
          ],
          "name": "stdout"
        }
      ]
    },
    {
      "cell_type": "markdown",
      "metadata": {
        "id": "MVhsecAAJvwT",
        "colab_type": "text"
      },
      "source": [
        "Finding the mean of the number of images we have for each character, not including Homer."
      ]
    },
    {
      "cell_type": "code",
      "metadata": {
        "id": "8kWIYgAnHT9t",
        "colab_type": "code",
        "colab": {
          "base_uri": "https://localhost:8080/",
          "height": 34
        },
        "outputId": "44c3c650-7e17-4d5c-994a-08797bb2e122"
      },
      "source": [
        "i = 0\n",
        "n = 0\n",
        "for character, num_images in character_observations_sub_dict.items():\n",
        "  if character != 'homer_simpson':\n",
        "    i += num_images\n",
        "    n += 1\n",
        "\n",
        "mean = i/n\n",
        "print('Mean =', mean)"
      ],
      "execution_count": 13,
      "outputs": [
        {
          "output_type": "stream",
          "text": [
            "Mean = 1151.076923076923\n"
          ],
          "name": "stdout"
        }
      ]
    },
    {
      "cell_type": "markdown",
      "metadata": {
        "id": "fwJkjLQhJ83K",
        "colab_type": "text"
      },
      "source": [
        "Downloading an extra 100 images (current limit of `google_images_download` without extra configuration) for all characters that have less then the mean number of images found above.\n",
        "\n"
      ]
    },
    {
      "cell_type": "code",
      "metadata": {
        "id": "DGOkHbltgdOk",
        "colab_type": "code",
        "colab": {
          "base_uri": "https://localhost:8080/",
          "height": 1000
        },
        "outputId": "8677ad97-bd88-471c-c762-dd6c21f00bd2"
      },
      "source": [
        "response = google_images_download.googleimagesdownload()   #class instantiation\n",
        "\n",
        "for character, num_images in character_observations_sub_dict.items():\n",
        "  if num_images < mean:\n",
        "    character_split = character.replace(\"_\",\" \")\n",
        "\n",
        "    arguments_content = {\"keywords\": character_split,\n",
        "                         \"limit\": 100,\n",
        "                         \"output_directory\":\"/content/simpsons/simpsons_dataset/simpsons_dataset/\",\n",
        "                         \"image_directory\":character,\n",
        "                         \"format\":\"jpg\"}   #creating dict of arguments\n",
        "    paths = response.download(arguments_content)   #passing the arguments to the function"
      ],
      "execution_count": 14,
      "outputs": [
        {
          "output_type": "stream",
          "text": [
            "\n",
            "Item no.: 1 --> Item name = milhouse van houten\n",
            "Evaluating...\n",
            "Starting Download...\n",
            "Completed Image ====> 1.10.jpg\n",
            "Completed Image ====> 2.Milhouse_Van_Houten.jpg\n",
            "Wrong image format returned. Skipping...\n",
            "Completed Image ====> 3.p-the-simpsons-pamela-hayden.jpg\n",
            "Wrong image format returned. Skipping...\n",
            "Completed Image ====> 4.13a48fe3c8f11d7eb0f18a637e52d637.jpg\n",
            "Completed Image ====> 5.20091113_millhouse_250x375.jpg\n",
            "Completed Image ====> 6.maxresdefault.jpg\n",
            "Completed Image ====> 7.imgbin-milhouse-van-houten-bart-simpson-homer-simpson-maggie-simpson-krusty-the-clown-bart-simpson-nQhREibR6yjGvCTXByaDAyC9F.jpg\n",
            "Completed Image ====> 8.qk34NX3S_400x400.jpg\n",
            "Completed Image ====> 9.maxresdefault.jpg\n",
            "Completed Image ====> 10.A-1400315-1266496119.png.jpg\n",
            "Completed Image ====> 11.50345603-352-k298328.jpg\n",
            "Wrong image format returned. Skipping...\n",
            "Wrong image format returned. Skipping...\n",
            "Completed Image ====> 12.imgbin-milhouse-van-houten-bart-simpson-homer-simpson-mr-burns-mayor-quimby-bart-simpson-0F5FccMuqssTWREVD8NWfg1pi.jpg\n",
            "Completed Image ====> 13.10.jpg\n",
            "Completed Image ====> 14.411full.jpg\n",
            "Completed Image ====> 15.milhouse-van-houten-the-simpsons-movie-3.69.jpg\n",
            "Completed Image ====> 16.milhouse-900x400.jpg\n",
            "Completed Image ====> 17.c46108ce4a6e47f3bf44015228c59998.jpg\n",
            "Completed Image ====> 18.61CbuIAeP1L._SX425_.jpg\n",
            "Completed Image ====> 19.MV5BZjY2YzlkZmEtYWQxYy00ZDhhLWIzMzYtNDAwMjcxYjQwN2VhXkEyXkFqcGdeQXVyNjcwMzEzMTU@._V1_UY1200_CR753,0,630,1200_AL_.jpg\n",
            "Completed Image ====> 20.milhousevanhou_1.jpg\n",
            "Wrong image format returned. Skipping...\n",
            "Completed Image ====> 21.MV5BNDNkODJmYTMtYmJmOS00YTljLWJmZGEtYTNhM2VmM2I4MTRlXkEyXkFqcGdeQXVyOTQ1NjAxODA@._V1_UY1200_CR614,0,630,1200_AL_.jpg\n",
            "Completed Image ====> 22.imgbin-milhouse-van-houten-bart-simpson-homer-simpson-marge-simpson-lisa-simpson-bart-simpson-VXu60PXNqFDHyn5K9rxEPQHb2.jpg\n",
            "Completed Image ====> 23.milhouse-van-houten-png-bart-simpson-clipart-e53ec4b09b42c1d5.jpg\n",
            "Completed Image ====> 24.milhouse-5463-4484.jpg\n",
            "Completed Image ====> 25.s-l400.jpg\n",
            "Completed Image ====> 26.marge-simpson-milhouse-van-houten-maggie-simpson-hot-dog-art-homero.jpg\n",
            "Completed Image ====> 27.e4d.jpg\n",
            "Completed Image ====> 28.kisspng-bart-simpson-marge-simpson-milhouse-van-houten-hom-the-simpsons-movie-5acbd54d282d57.9097041215233078531646.jpg\n",
            "Wrong image format returned. Skipping...\n",
            "Completed Image ====> 29.s-l300.jpg\n",
            "Completed Image ====> 30.bart-simpson-s-guide-to-life-maggie-simpson-milhouse-van-houten-homer-simpson-bart-simpson.jpg\n",
            "Completed Image ====> 31.hqdefault.jpg\n",
            "Completed Image ====> 32.Milhouse-Van-Houten.jpg\n",
            "Completed Image ====> 33.milhouse-van-houten-3d-model-max-obj-3ds-c4d.jpg\n",
            "Completed Image ====> 34.milhouse_van_houten.jpg\n",
            "Completed Image ====> 35.bart_simpson___milhouse_van_houten_princess_tf_tg_by_trickymario7654_dc9erfc-pre.jpg\n",
            "Completed Image ====> 36.Milhouse_Van_Houten_The_Simpsons_svg_dxf_eps_pdf_png_773_0-500x500.jpg\n",
            "Wrong image format returned. Skipping...\n",
            "Completed Image ====> 37.milhouse-van-houten-the-simpsons-game-7.96.jpg\n",
            "Wrong image format returned. Skipping...\n",
            "Completed Image ====> 38.kisspng-comic-book-guy-bart-simpson-milhouse-van-houten-th-worst-5aec53a3cd03a0.2673632615254373478398.jpg\n",
            "Completed Image ====> 39.MV5BYWI3NDUyNTYtNjM3ZC00YTQxLTk3YTctZjRmYWQzZTRkN2Y3XkEyXkFqcGdeQXVyNjcwMzEzMTU@._V1_UY1200_CR485,0,630,1200_AL_.jpg\n",
            "Wrong image format returned. Skipping...\n",
            "Completed Image ====> 40.lego-milhouse-van-houten-set-71005-9-25-1.jpg\n",
            "Completed Image ====> 41.907549457.jpg\n",
            "Completed Image ====> 42.milhouse.jpg\n",
            "Completed Image ====> 43.simpsons-milhouse-png-milhouse-van-houten-bart-sim-15dcc14bf8ff7789.jpg\n",
            "Completed Image ====> 44.5189sz663jL._UY500_.jpg\n",
            "Completed Image ====> 45.Simpsons_World_of_Springfield_Series_3_Interactive_Figure_MILHOUSE_Playmates_1024x1024.jpg\n",
            "Wrong image format returned. Skipping...\n",
            "Completed Image ====> 46.Milhouse-van-Houten-Lego-71005-Simpsons-Minifigure-1.jpg\n",
            "Completed Image ====> 47.15246511797_749882f5c8_b.jpg\n",
            "Wrong image format returned. Skipping...\n",
            "Completed Image ====> 48.minifigures-milhouse-van-houten-71005-001.jpg\n",
            "Completed Image ====> 49.Milhouse-Van-Houten.jpg\n",
            "Completed Image ====> 50.bart-simpson-homer-simpson-marge-simpson-maggie-simpson-milhouse-van-houten-bart-simpson.jpg\n",
            "Wrong image format returned. Skipping...\n",
            "Wrong image format returned. Skipping...\n",
            "Completed Image ====> 51.01-01-34.jpg\n",
            "Completed Image ====> 52.lego-milhouse-van-houten-minifigure-1.jpg\n",
            "Completed Image ====> 53.milhouse-van-houten-nina-skalka-springfield-nuclear-power-plant-springfield-elementary-school-others.jpg\n",
            "Completed Image ====> 54.71005-9.jpg\n",
            "Completed Image ====> 55.milhouse-van-houten-bart-simpson-ralph-wiggum-homer-simpson-nelson-muntz-png-favpng-gvKDNzC6n10ucUQfzqNDvGeYD_t.jpg\n",
            "Wrong image format returned. Skipping...\n",
            "Completed Image ====> 56.80294899-milhouse-van-houten-the-simpsons.jpg\n",
            "Completed Image ====> 57.P0.jpg\n",
            "Wrong image format returned. Skipping...\n",
            "Completed Image ====> 58.Milhouse%20Van%20Houten%20Simpson%20Embroidery%20Design-1500x1500.jpg\n",
            "Wrong image format returned. Skipping...\n",
            "Completed Image ====> 59.Bart-Simpson-Milhouse-Van-Houten-Lisa-Simpson-Homer-T-Shirt.jpg\n",
            "Completed Image ====> 60.mp%2C185x205%2Cgloss%2Cf8f8f8%2Ct-pad%2C210x230%2Cf8f8f8.u1.jpg\n",
            "Completed Image ====> 61.kisspng-lisa-simpson-homer-simpson-milhouse-van-houten-ral-5ae804f1cae889.7173973815251550578311.jpg\n",
            "Completed Image ====> 62.20140609_112106.jpg\n",
            "Completed Image ====> 63.bart-simpson-homer-simpson-milhouse-van-houten-marge-simpson-lisa-simpson-bart-simpson.jpg\n",
            "Completed Image ====> 64.04.jpg\n",
            "Completed Image ====> 65.the-simpsons---playmates---milhouse-van-houten---loose-figure-p-image-312320-grande.jpg\n",
            "Completed Image ====> 66.7876-src.jpg\n",
            "Completed Image ====> 67.bart-simpson-homer-simpson-marge-simpson-lisa-simpson-milhouse-van-houten-bart-simpson.jpg\n",
            "Completed Image ====> 68.1200px-Milhouse_Springfield_U_S_A.JPG\n",
            "Completed Image ====> 69.imgbin-bart-simpson-milhouse-van-houten-lisa-simpson-homer-simpson-supreme-bart-simpson-milhouse-from-the-simpsons-illustration-zTefe80vBTCQ337j4TT3c0076.jpg\n",
            "Completed Image ====> 70.Milhouse_Van_Houten-Matt_Groening-Simpsons-Kidrobot-trampt-300458m.jpg\n",
            "Completed Image ====> 71.film-still-publicity-still-from-the-simpsons-milhouse-van-houten-2002-file-reference-30754259tha-for-editorial-use-only-all-rights-reserved-PM5HMG.jpg\n",
            "Wrong image format returned. Skipping...\n",
            "Completed Image ====> 72.big_1473311916_image.jpg\n",
            "Completed Image ====> 73.maxresdefault.jpg\n",
            "Completed Image ====> 74.c1c83f3b4c6445270d257fed8fe52004_preview_featured.jpg\n",
            "Completed Image ====> 75.kirk-van-houten-milhouse-van-houten-ned-flanders-professor-frink-luann-van-houten-homero-thumbnail.jpg\n",
            "Completed Image ====> 76.085ff4f191118e3a2149ffc1e9ef4528.jpg\n",
            "Completed Image ====> 77.Milhouse-Van-Houten-paka-9.jpg\n",
            "Completed Image ====> 78.milhouse-van-houten-caddc210-1e9e-4275-a192-4ed6c13ee36-resize-750.jpg\n",
            "Completed Image ====> 79.13966113040_ca2ac4312c_b.jpg\n",
            "URLError on an image...trying next one... Error: <urlopen error [SSL: CERTIFICATE_VERIFY_FAILED] certificate verify failed (_ssl.c:852)>\n",
            "Completed Image ====> 80.Milhouse-Van-Houten-The-Simpsons-2001-B-K-Figure.jpg\n",
            "Completed Image ====> 81.the-simpsons-bart-simpson-lisa-simpson-milhouse-van-houten-wallpaper-thumb.jpg\n",
            "Completed Image ====> 82.clyde_mcbride_meets_milhouse_van_houten__by_matiriani28_dbwzic1-pre.jpg\n",
            "\n",
            "\n",
            "Unfortunately all 100 could not be downloaded because some images were not downloadable. 82 is all we got for this search filter!\n",
            "\n",
            "Errors: 18\n",
            "\n",
            "\n",
            "Item no.: 1 --> Item name = sideshow bob\n",
            "Evaluating...\n",
            "Starting Download...\n",
            "Completed Image ====> 1.sideshow-bob.jpg\n",
            "Wrong image format returned. Skipping...\n",
            "Completed Image ====> 2.51jhcGSmNRL._SX569_.jpg\n",
            "Wrong image format returned. Skipping...\n",
            "Completed Image ====> 3.MV5BMTZhY2IwNzYtMTFhYy00NjliLTlkNGYtYzk1YjhmNWEwZTlmXkEyXkFqcGdeQXVyNjcwMzEzMTU@._V1_UY268_CR87,0,182,268_AL_.jpg\n",
            "Completed Image ====> 4.hqdefault.jpg\n",
            "Completed Image ====> 5.Sideshow-Bob-700x300.jpg\n",
            "Completed Image ====> 6.sideshowbob.jpg\n",
            "Completed Image ====> 7.8ea12bd79870a03994fbf65f63baaa92--school-pictures-sideshow.jpg\n",
            "Completed Image ====> 8.51EIIqbGezL._SX466_.jpg\n",
            "Completed Image ====> 9.maxresdefault.jpg\n",
            "Wrong image format returned. Skipping...\n",
            "Completed Image ====> 10.sbr21.jpg\n",
            "Wrong image format returned. Skipping...\n",
            "Completed Image ====> 11.sideshow-bob-brent-andrew-doty.jpg\n",
            "Completed Image ====> 12.5fa3e3697f77f14d4d513fe1a64cecfc.jpg\n",
            "Completed Image ====> 13.me_and_sideshow_bob_by_omarilinko_dcvnw0a-fullview.jpg\n",
            "Completed Image ====> 14.s-l300.jpg\n",
            "Completed Image ====> 15.sideshowbob.jpg\n",
            "Wrong image format returned. Skipping...\n",
            "Completed Image ====> 16.xxx_simpsons-sideshow-bob-5548-_66580206-e1433767860574.jpg\n",
            "Completed Image ====> 17.71l9jspp30L._SX425_.jpg\n",
            "Wrong image format returned. Skipping...\n",
            "Completed Image ====> 18.imgbin-sideshow-bob-roberts-bart-simpson-krusty-the-clown-homer-simpson-the-simpsons-movie-the-simpson-character-illustration-56ACUQceGc02y87Rr3z7fFWRx.jpg\n",
            "Completed Image ====> 19.MV5BYjQ4MmQxZDEtZmYyYS00NDQ2LWJiOWQtYjIyODU1YjZlMzAxXkEyXkFqcGdeQXVyNjAwODA4Mw@@._V1_UY1200_CR126,0,630,1200_AL_.jpg\n",
            "Wrong image format returned. Skipping...\n",
            "Completed Image ====> 20.603269.0.jpg\n",
            "Completed Image ====> 21.simpsons_23996467.jpg\n",
            "Completed Image ====> 22.sideshow-bob-will-kill-bart-on-the-simpsons.jpg\n",
            "Completed Image ====> 23.maxresdefault.jpg\n",
            "Completed Image ====> 24.kxxUufN4_400x400.jpg\n",
            "Completed Image ====> 25.sideshow-bob-the-simpsons-game-7.26.jpg\n",
            "Completed Image ====> 26.sideshow-bob.jpg\n",
            "Wrong image format returned. Skipping...\n",
            "Completed Image ====> 27.6fadyr93ysz21.jpg\n",
            "Completed Image ====> 28.Simpsons-Sideshow-Bob-hat-enamel-pin_large.jpg\n",
            "Completed Image ====> 29.f4125b26d44889e59a62e2af9832efee.jpg\n",
            "Completed Image ====> 30.2880723-bob1.jpg\n",
            "Wrong image format returned. Skipping...\n",
            "Completed Image ====> 31.iWGy8Dtj-600x338.jpg\n",
            "Completed Image ====> 32.p-the-simpsons-kelsey-grammer.jpg\n",
            "Completed Image ====> 33.Simpsons_12_14_P5_640x360_316593731563.jpg\n",
            "Completed Image ====> 34.sideshow-bob-brent-andrew-doty.jpg\n",
            "Completed Image ====> 35.49e8401aad1a04870895136a26de90db0af0b09cv2_hq.jpg\n",
            "Completed Image ====> 36.Sideshow-Bob-1.jpg\n",
            "Completed Image ====> 37.95701175-352-k810060.jpg\n",
            "Completed Image ====> 38.bob.0.0.jpg\n",
            "Completed Image ====> 39.bartbob.jpg\n",
            "Completed Image ====> 40.sideshow_bob_01_the_simpsons_51391.jpg\n",
            "Completed Image ====> 41.hqdefault.jpg\n",
            "Completed Image ====> 42.c-pesce-sideshowbob.jpg\n",
            "Completed Image ====> 43.simpsons.jpg\n",
            "Completed Image ====> 44.73740.jpg\n",
            "Wrong image format returned. Skipping...\n",
            "Wrong image format returned. Skipping...\n",
            "Completed Image ====> 45.c587ed73bfa6cf583275860f7b6aa025.jpg\n",
            "Completed Image ====> 46.rBVaHVUEVH2AFMF9AAGZK3Nd-Fk825.jpg\n",
            "Completed Image ====> 47.4qsniuc6gxm21.jpg\n",
            "Completed Image ====> 48.MV5BMTU1ODZhYWMtNWJhNC00MmUyLWE3ZjYtNDgyNDkzNzU2OWQ2XkEyXkFqcGdeQXVyNjcwMzEzMTU@._V1_UY1200_CR664,0,630,1200_AL_.jpg\n",
            "Completed Image ====> 49.imgbin-sideshow-bob-bart-simpson-homer-simpson-mona-simpson-sideshow-mel-v-for-vendetta-J8rhMfqed97Ghed59K9n3fG9b.jpg\n",
            "Completed Image ====> 50.sideshow-bob-bart-simpson-krusty-the-clown-sideshow-mel-the-simpsons-tapped-out-bart-simpson.jpg\n",
            "Completed Image ====> 51.sbob1-500x380.jpg\n",
            "Completed Image ====> 52.51YX4pb-cDL._SX466_.jpg\n",
            "Completed Image ====> 53.sideshow-bob-the-simpsons-9.57.jpg\n",
            "Completed Image ====> 54.76f25c6feace38a8e874b0400acb12b8.500x500x1.jpg\n",
            "Completed Image ====> 55.Simpsons_08_18_P3_640x360_318676035962.jpg\n",
            "Completed Image ====> 56.Sideshow-Bob-Wallpaper-sideshow-bob-1145065_1024_768.jpg\n",
            "Wrong image format returned. Skipping...\n",
            "Completed Image ====> 57.173244_1.jpg\n",
            "Wrong image format returned. Skipping...\n",
            "Completed Image ====> 58.MV5BZDgyN2RhNWMtODBkYi00OGI3LWI0NGMtNDQxMDA5NzFmM2I0XkEyXkFqcGdeQXVyNjcwMzEzMTU@._V1_UY1200_CR485,0,630,1200_AL_.jpg\n",
            "Completed Image ====> 59.jnpt0fkgw7131.jpg\n",
            "Completed Image ====> 60.1511313948-769-4668-sideshow-bob.jpg\n",
            "Completed Image ====> 61.30-Kelsey-Grammer-Sideshow-Bob-2.nocrop.w710.h2147483647.jpg\n",
            "Completed Image ====> 62.173244_1.jpg\n",
            "Completed Image ====> 63.28835574-352-k96741.jpg\n",
            "Completed Image ====> 64.The-Simpsons-582947.jpg\n",
            "Completed Image ====> 65.sideshow-bob-the-simpsons-bbe1dc8aa918caa6.jpg\n",
            "Completed Image ====> 66.sideshow-bob-124-kidrobot-vinyl-figure_2000x.jpg\n",
            "Completed Image ====> 67.SideshowBobRoberts-D1366.jpg\n",
            "Completed Image ====> 68.maxresdefault.jpg\n",
            "Completed Image ====> 69.s-l1600.jpg\n",
            "Wrong image format returned. Skipping...\n",
            "Completed Image ====> 70.c9ee2dd6616dd040b6666547a163fb5b.jpg\n",
            "Completed Image ====> 71.rs-198597-GettyImages-476905677.jpg\n",
            "Completed Image ====> 72.6b066b9a-e587-53ac-a674-faaa3897b55b-original.jpg\n",
            "Completed Image ====> 73.maxresdefault.jpg\n",
            "Completed Image ====> 74.thumb-png-lisa-simpson-bart-simpson-sideshow-bob-clip-art-ae.jpg\n",
            "Completed Image ====> 75.81fbd960-55bb-4c98-820d-27db3ca2517e_screenshot.jpg\n",
            "Completed Image ====> 76.ustv-the-simpsons-sideshow-bob.jpg\n",
            "Completed Image ====> 77.bob_render1.jpg\n",
            "Completed Image ====> 78.106.jpg\n",
            "Completed Image ====> 79.SideshowBobHug.jpg\n",
            "Completed Image ====> 80.k1quwiiwzs7ulgalaqlo.jpg\n",
            "Completed Image ====> 81.sideshowbob.jpg\n",
            "Completed Image ====> 82.kisspng-sideshow-bob-fan-art-character-drawing-sideshow-bob-5b35b9fd7eb2d2.854123711530247677519.jpg\n",
            "Completed Image ====> 83.f8dd60fa47117a0070c9073b65a9ddce.jpg\n",
            "Completed Image ====> 84.222722.jpg\n",
            "Completed Image ====> 85.ip_939789.jpg\n",
            "Completed Image ====> 86.ommge1lk2mwrp7w4vdrx.jpg\n",
            "\n",
            "\n",
            "Unfortunately all 100 could not be downloaded because some images were not downloadable. 86 is all we got for this search filter!\n",
            "\n",
            "Errors: 14\n",
            "\n",
            "\n",
            "Item no.: 1 --> Item name = abraham grampa simpson\n",
            "Evaluating...\n",
            "Starting Download...\n",
            "Completed Image ====> 1.a24acf915859ab9a0ea58693d5dec083.jpg\n",
            "Completed Image ====> 2.12.jpg\n",
            "Completed Image ====> 3.grandpa-simpson-300x218.jpg\n",
            "Wrong image format returned. Skipping...\n",
            "Completed Image ====> 4.simpsonsworld_social_og_grampa_1200x1200.jpg\n",
            "Completed Image ====> 5.514dw3%2B2yQL.jpg\n",
            "Completed Image ====> 6.grampa.jpg\n",
            "Completed Image ====> 7.poster.jpg\n",
            "Completed Image ====> 8.220px-In_the_Name_of_the_Grandfather.jpg\n",
            "Wrong image format returned. Skipping...\n",
            "Completed Image ====> 9.imgbin-grampa-simpson-homer-simpson-marge-simpson-lisa-simpson-bart-simpson-the-simpsons-the-simpsons-abraham-simpson-qPXjfrW8Vfzw2T1Kkm2nN8szg.jpg\n",
            "Completed Image ====> 10.tumblr_pnott1YWjZ1x71of3o1_400.jpg\n",
            "Completed Image ====> 11.abe_old01.jpg\n",
            "Completed Image ====> 12.hqdefault.jpg\n",
            "Completed Image ====> 13.rs-18072-simpsons-624-1380727300.jpg\n",
            "Completed Image ====> 14.hqdefault.jpg\n",
            "Completed Image ====> 15.kisspng-grampa-simpson-old-money-simpson-family-image-wiki-file-amp-quot-old-tut-amp-quot-simpson-png-wik-5b6c63d9df1cf8.4671686015338301059139.jpg\n",
            "Completed Image ====> 16.grampasimpson_1.jpg\n",
            "Wrong image format returned. Skipping...\n",
            "Completed Image ====> 17.maxresdefault.jpg\n",
            "Completed Image ====> 18.41KTFFJX5CL._SY450_.jpg\n",
            "Completed Image ====> 19.07.jpg\n",
            "Completed Image ====> 20.MV5BMzMzYmYxNDEtZDcxYy00YWUwLWI1YTEtNWExODhjMTkxZDVkXkEyXkFqcGdeQXVyNjcwMzEzMTU@._V1_UY268_CR87,0,182,268_AL_.jpg\n",
            "Completed Image ====> 21.a1f26bf5-59b5-4bb4-8e53-38a1838108c4.jpg\n",
            "Completed Image ====> 22.Abraham_Grampa_Simpson.jpg\n",
            "Completed Image ====> 23.maxresdefault.jpg\n",
            "Completed Image ====> 24.BdDwNHE.jpg\n",
            "Wrong image format returned. Skipping...\n",
            "Completed Image ====> 25.MV5BZjE2ZWM5MTAtODgwMC00ZmUxLWExZDYtZDNmZWM0MDIyYjFlXkEyXkFqcGdeQXVyNjcwMzEzMTU@._V1_UY1200_CR475,0,630,1200_AL_.jpg\n",
            "Completed Image ====> 26.abe-simpson-and-rita-lafleur.jpg\n",
            "Completed Image ====> 27.hqdefault.jpg\n",
            "Completed Image ====> 28.s-l300.jpg\n",
            "Completed Image ====> 29.fk33881-z.jpg\n",
            "Completed Image ====> 30.maxresdefault.jpg\n",
            "Completed Image ====> 31.51TgKPPS0aL._AC_SY400_.jpg\n",
            "Completed Image ====> 32.simpsons_07_21.jpg\n",
            "Wrong image format returned. Skipping...\n",
            "Wrong image format returned. Skipping...\n",
            "Completed Image ====> 33.1038_grandpas.jpg\n",
            "Completed Image ====> 34.abraham-simpson-the-tracey-ullman-show-69.8.jpg\n",
            "Wrong image format returned. Skipping...\n",
            "Wrong image format returned. Skipping...\n",
            "Completed Image ====> 35.MV5BMzMzYmYxNDEtZDcxYy00YWUwLWI1YTEtNWExODhjMTkxZDVkXkEyXkFqcGdeQXVyNjcwMzEzMTU@._V1_.jpg\n",
            "URLError on an image...trying next one... Error: HTTP Error 403: Forbidden\n",
            "Completed Image ====> 36.maxresdefault.jpg\n",
            "Wrong image format returned. Skipping...\n",
            "Completed Image ====> 37.giphy-facebook_s.jpg\n",
            "Completed Image ====> 38.1431110556Simpsons+Grandpa.JPG\n",
            "Completed Image ====> 39.thumb-350-460196.jpg\n",
            "Completed Image ====> 40.abe-and-homer.jpg\n",
            "Completed Image ====> 41.MV5BOThlMzA1ZDAtYzNhOC00ZGEwLTkzOGYtNmJhZjYxZjczNGVkXkEyXkFqcGdeQXVyMjMxOTcxOTI@._V1_.jpg\n",
            "Completed Image ====> 42.maxresdefault.jpg\n",
            "Completed Image ====> 43.72a5a291-e84f-4ee9-9b0f-b73cc63806c8_tn.jpg\n",
            "Completed Image ====> 44.imgbin-the-simpsons-tapped-out-grampa-simpson-springfield-retirement-castle-the-simpsons-game-abraham-simpson-AQzuGu44K6N5pWA6JVz6ZNFY3.jpg\n",
            "Completed Image ====> 45.200px-Mona1950s.JPG\n",
            "Completed Image ====> 46.17118_grampasimpson_1550521164.jpg\n",
            "Wrong image format returned. Skipping...\n",
            "Completed Image ====> 47.grandpa-simpson.jpg\n",
            "Completed Image ====> 48.ea41cc1eb841d1b91cc0db8c78e447ca.jpg\n",
            "Completed Image ====> 49.grampatonic.jpg\n",
            "Wrong image format returned. Skipping...\n",
            "Completed Image ====> 50.abraham-simpson-the-simpsons-movie-58.4.jpg\n",
            "Completed Image ====> 51.maxresdefault.jpg\n",
            "Completed Image ====> 52.6582377845521632580.jpg\n",
            "Completed Image ====> 53.514dw3%2B2yQL._SR600%2C315_PIWhiteStrip%2CBottomLeft%2C0%2C35_SCLZZZZZZZ_.jpg\n",
            "Completed Image ====> 54.4684befe-2662-11e3-9867-7d5efc30e2dd.jpg\n",
            "Completed Image ====> 55.03.jpg\n",
            "Completed Image ====> 56.Abraham--quot-Grampa-quot--Simpson-back.jpg\n",
            "Completed Image ====> 57.maxresdefault.jpg\n",
            "Completed Image ====> 58.MV5BMTczMTk0ODI1M15BMl5BanBnXkFtZTgwMDQ0OTgyNDE@._V1_UY1200_CR485,0,630,1200_AL_.jpg\n",
            "Completed Image ====> 59.giphy-facebook_s.jpg\n",
            "Wrong image format returned. Skipping...\n",
            "Completed Image ====> 60.le-v-eacute-lo-zmdkh.jpg\n",
            "Completed Image ====> 61.a1f26bf5-59b5-4bb4-8e53-38a1838108c4.jpg\n",
            "Completed Image ====> 62.Abraham-Simpson-abraham-simpson-41828949-1303-1304.jpg\n",
            "Completed Image ====> 63.01.jpg\n",
            "Completed Image ====> 64.imgbin-grampa-simpson-bart-simpson-ferb-fletcher-phineas-flynn-simpsons-comics-series-bart-simpson-Efrdnck7i2xZaVe3xjhhfgaCy.jpg\n",
            "Completed Image ====> 65.46b42fd6-2662-11e3-8616-0890abc31cc1.jpg\n",
            "Wrong image format returned. Skipping...\n",
            "Wrong image format returned. Skipping...\n",
            "Completed Image ====> 66.thumb-350-779651.jpg\n",
            "Completed Image ====> 67.Simpsons_10_08_P2_640x360_322305091595.jpg\n",
            "Completed Image ====> 68.tumblr_ovohz2Yi1Z1sept13o1_400.jpg\n",
            "Completed Image ====> 69.abe_old02.jpg\n",
            "Completed Image ====> 70.kisspng-bird-grampa-simpson-cartoon-human-behavior-abraham-simpson-5b2c785d260043.6822019315296410531557.jpg\n",
            "Completed Image ====> 71.the-simpsons-grandpa-cane1.jpg\n",
            "Wrong image format returned. Skipping...\n",
            "Wrong image format returned. Skipping...\n",
            "Completed Image ====> 72.Gorgeous_Grampa.jpg\n",
            "Completed Image ====> 73.abe-simpson-toyota-5.21.jpg\n",
            "Completed Image ====> 74.depositphotos_64514821-stock-photo-lego-grampa-simpson.jpg\n",
            "Completed Image ====> 75.02.jpg\n",
            "Wrong image format returned. Skipping...\n",
            "Wrong image format returned. Skipping...\n",
            "Wrong image format returned. Skipping...\n",
            "Wrong image format returned. Skipping...\n",
            "Completed Image ====> 76.the-simpsons-from-left-marge-simpson-maggie-simpson-in-lap-lisa-simpson-HD8Y12.jpg\n",
            "Wrong image format returned. Skipping...\n",
            "Completed Image ====> 77.IMG_3981.JPG\n",
            "Completed Image ====> 78.maxresdefault.jpg\n",
            "\n",
            "\n",
            "Unfortunately all 100 could not be downloaded because some images were not downloadable. 78 is all we got for this search filter!\n",
            "\n",
            "Errors: 22\n",
            "\n",
            "\n",
            "Item no.: 1 --> Item name = chief wiggum\n",
            "Evaluating...\n",
            "Starting Download...\n",
            "Wrong image format returned. Skipping...\n",
            "Completed Image ====> 1.220px-Chief_Wiggum_Springfield_U_S_A.JPG\n",
            "Completed Image ====> 2.41igKzQTiDL.jpg\n",
            "Completed Image ====> 3.BXNlzdFIIAANXII.jpg\n",
            "Completed Image ====> 4.maxresdefault.jpg\n",
            "Completed Image ====> 5.poinlma3e7g21.jpg\n",
            "Completed Image ====> 6.5fd57893de218d33d5f856c50a5017de.jpg\n",
            "Completed Image ====> 7.81tYIp9qkGL._SY606_.jpg\n",
            "Completed Image ====> 8.chief-wiggum.jpg\n",
            "Completed Image ====> 9.maxresdefault.jpg\n",
            "Completed Image ====> 10.wiggum.jpg\n",
            "Completed Image ====> 11.CHfiaqpWEAEnZ7w.jpg\n",
            "Completed Image ====> 12.Simpsons_07_02_P3_640x360_321202243949.jpg\n",
            "Completed Image ====> 13.204f0014d0627cc76b67ae51e03f4047.jpg\n",
            "Completed Image ====> 14.Pants-600x338.jpg\n",
            "Completed Image ====> 15.cover1.jpg\n",
            "Completed Image ====> 16.imgbin-chief-wiggum-ralph-wiggum-homer-simpson-maggie-simpson-lisa-simpson-bart-simpson-XJT7949YGkgR1P34MNr2hvveF.jpg\n",
            "Completed Image ====> 17.Chief%2BWiggum.jpg\n",
            "Completed Image ====> 18.Simpsons_06_21_P1_640x360_312568387694.jpg\n",
            "Completed Image ====> 19.s-l300.jpg\n",
            "Completed Image ====> 20.26jpab.jpg\n",
            "Completed Image ====> 21.maxresdefault.jpg\n",
            "Completed Image ====> 22.MV5BZmMyNzgwNDYtN2YzMS00MmViLTgwYWEtOTllYzU0Mzk3OGNjXkEyXkFqcGdeQXVyNjQwMTkxMDU@._V1_UY1200_CR751,0,630,1200_AL_.jpg\n",
            "Completed Image ====> 23.Chief-Clancy-Wiggum-008.jpg\n",
            "Wrong image format returned. Skipping...\n",
            "Completed Image ====> 24.chief-clancy-wiggum-the-simpsons-movie-64.4.jpg\n",
            "Wrong image format returned. Skipping...\n",
            "Completed Image ====> 25.s-l300.jpg\n",
            "Completed Image ====> 26.d5b4_poster.jpg\n",
            "Completed Image ====> 27.asypzbt2lkk21.jpg\n",
            "Completed Image ====> 28.816594d2e89a697c3f7b50b05b2b8ccc.jpg\n",
            "Completed Image ====> 29.2680583511_d2cf18df3a.jpg\n",
            "Completed Image ====> 30.Simpsons_08_02_P2.jpg\n",
            "Wrong image format returned. Skipping...\n",
            "Completed Image ====> 31.lego-minifigure-collection-lego-simpsons-series-loose-chief-wiggum-coming-soon-17__31331.1461309638.jpg\n",
            "Wrong image format returned. Skipping...\n",
            "Completed Image ====> 32.imgbin-ralph-wiggum-chief-wiggum-lisa-simpson-marge-simpson-bart-simpson-the-simpsons-the-simpsons-character-illustration-idQdKN5QsKjVk8GiB5jms72Jq.jpg\n",
            "Completed Image ====> 33.Chief-Wiggum-2.jpg\n",
            "Completed Image ====> 34.lego-chief-wiggum-with-doughnut-frosting-on-face-and-shirt-minifigure-25.jpg\n",
            "Completed Image ====> 35.il_570xN.1102149618_efdj.jpg\n",
            "Completed Image ====> 36.ce4857029076826d780fab02921fa987.jpg\n",
            "Completed Image ====> 37.tumblr_mlldbnOHvY1snjzm6o1_1280.jpg\n",
            "Completed Image ====> 38.dc14_poster.jpg\n",
            "Completed Image ====> 39.61U6oe%2BTcXL._SX258_BO1,204,203,200_.jpg\n",
            "Completed Image ====> 40.MV5BZjlhY2UzM2QtNjk1YS00Y2Q4LTgwYmUtNDllMjhlMTEzODhhXkEyXkFqcGdeQXVyMjU2MDMzODA@._V1_UY1200_CR485,0,630,1200_AL_.jpg\n",
            "Wrong image format returned. Skipping...\n",
            "Completed Image ====> 41.105565293-los-angeles-usa-sep-27-2015-police-chief-wiggum-at-the-simpsons-area-of-the-universal-studios-hollyw.jpg\n",
            "Completed Image ====> 42.a0afc12ded31559e7945793049594310.jpg\n",
            "Wrong image format returned. Skipping...\n",
            "Wrong image format returned. Skipping...\n",
            "Completed Image ====> 43.30286238267_524844142e_b.jpg\n",
            "Wrong image format returned. Skipping...\n",
            "Completed Image ====> 44.Wiggum-5-1.jpg\n",
            "Completed Image ====> 45.hqdefault.jpg\n",
            "Completed Image ====> 46.hqdefault.jpg\n",
            "Completed Image ====> 47.brawl-series-chief-wiggum-v-snake-prints.jpg\n",
            "Completed Image ====> 48.simpsons-plush-figure-chief-wiggum-31-cm.jpg\n",
            "Wrong image format returned. Skipping...\n",
            "Completed Image ====> 49.CHIEFWIGGUM8GBunit1.jpg\n",
            "Completed Image ====> 50.17167f.jpg\n",
            "Completed Image ====> 51.Chief%20Wiggum.jpg\n",
            "Completed Image ====> 52.s-34-621-34621-xlarge.jpg\n",
            "Completed Image ====> 53.Chief_Wiggum.jpg\n",
            "Completed Image ====> 54.1183_chiefwiggm.jpg\n",
            "Completed Image ====> 55.chief-wiggum-barney-gumble-nelson-muntz-homer-simpson-grampa-simpson-png-favpng-HB3tZK81bfvzemaNv6HvmkADd.jpg\n",
            "Completed Image ====> 56.a41.jpg\n",
            "Completed Image ====> 57.ralph-wiggum-chief-wiggum-santa-s-little-helper-bart-simpson-marge-simpson-simpsons.jpg\n",
            "Completed Image ====> 58.chief-wiggum-is-the-worst-cop-of-all-time-1.jpg\n",
            "Completed Image ====> 59.il_570xN.1322799752_9an7.jpg\n",
            "Completed Image ====> 60.IMG_1608.jpg\n",
            "Completed Image ====> 61.chief-wiggum-124-kidrobot-vinyl-figure_2000x.jpg\n",
            "Wrong image format returned. Skipping...\n",
            "Completed Image ====> 62.SSIM1000.jpg\n",
            "Completed Image ====> 63.simpsonschiefwiggumthumb.jpg\n",
            "Completed Image ====> 64.647de75b3acd457fa60f2559cb93907b.jpg\n",
            "Completed Image ====> 65.A-6944729-1548286340-7448.png.jpg\n",
            "Wrong image format returned. Skipping...\n",
            "Completed Image ====> 66.kisspng-martin-prince-lisa-simpson-chief-wiggum-bart-simps-los-simpson-5b2bfcf9b0f2a0.5392290915296094657248.jpg\n",
            "Completed Image ====> 67.avatar.jpg\n",
            "Completed Image ====> 68.tumblr_m4cq9ax7VL1qfrrv2o1_1280.jpg\n",
            "Completed Image ====> 69.chief-wiggum-the-simpsons-cartoon-studio-9.81.jpg\n",
            "Wrong image format returned. Skipping...\n",
            "Wrong image format returned. Skipping...\n",
            "Completed Image ====> 70.chief-wiggum.jpg\n",
            "Completed Image ====> 71.716057_b.jpg\n",
            "Completed Image ====> 72.chief_wiggum_s_blueberry_mistake_by_catfan180_dbd1yuw-pre.jpg\n",
            "Completed Image ====> 73.2bma4e.jpg\n",
            "URLError on an image...trying next one... Error: HTTP Error 403: Forbidden\n",
            "Completed Image ====> 74.img_0477.jpg\n",
            "Completed Image ====> 75.SelfishSerpentineIberianemeraldlizard-mobile.jpg\n",
            "Completed Image ====> 76.lego-chief-wiggum-minifigure-25.jpg\n",
            "Completed Image ====> 77.with-chief-wiggum.jpg\n",
            "Completed Image ====> 78.230X230-20180111-205219.jpg\n",
            "Completed Image ====> 79.w8DqfQcofxjmd0zqwXeDQvKcoDOzVn2yG2rp1zsQ6-c.jpg\n",
            "Completed Image ====> 80.Chief-Wiggum-in-real-life.jpg\n",
            "Wrong image format returned. Skipping...\n",
            "URLError on an image...trying next one... Error: HTTP Error 404: Not Found\n",
            "Completed Image ====> 81.Simpsons_World_of_Springfield_Series_2_Interactive_Figure_CHIEF_WIGGUM_Playmates_1024x1024.jpg\n",
            "Wrong image format returned. Skipping...\n",
            "Wrong image format returned. Skipping...\n",
            "\n",
            "\n",
            "Unfortunately all 100 could not be downloaded because some images were not downloadable. 81 is all we got for this search filter!\n",
            "\n",
            "Errors: 19\n",
            "\n",
            "\n",
            "Item no.: 1 --> Item name = apu nahasapeemapetilon\n",
            "Evaluating...\n",
            "Starting Download...\n",
            "Completed Image ====> 1.apu.jpg\n",
            "Completed Image ====> 2.apu1_mobile.jpg\n",
            "Completed Image ====> 3.maxresdefault.jpg\n",
            "Completed Image ====> 4.Apu-in-The-Simpsons-920x584.jpg\n",
            "Completed Image ====> 5.180425193051-apu-simpsons-exlarge-169.jpg\n",
            "Wrong image format returned. Skipping...\n",
            "Completed Image ====> 6.1_The-Simpsons.jpg\n",
            "Completed Image ====> 7.apu2-e1540666112228.jpg\n",
            "Completed Image ====> 8.apu-nahasapeemapetilon-family-guy-30.3.jpg\n",
            "Completed Image ====> 9.DTIHMIn.jpg\n",
            "Wrong image format returned. Skipping...\n",
            "Wrong image format returned. Skipping...\n",
            "Completed Image ====> 10.methode%2Ftimes%2Fprod%2Fweb%2Fbin%2F0478e61e-daeb-11e8-92cf-04dd0c427a69.jpg\n",
            "Completed Image ====> 11.apu-Nahasapeemapetilon-simpsons-retiring-gq.jpg\n",
            "Completed Image ====> 12.p-the-simpsons-harry-shearer-apu-nahasapeemapetilon.jpg\n",
            "Wrong image format returned. Skipping...\n",
            "Completed Image ====> 13.1762015_0.jpg\n",
            "Wrong image format returned. Skipping...\n",
            "Completed Image ====> 14.79.jpg\n",
            "Wrong image format returned. Skipping...\n",
            "Completed Image ====> 15.maxresdefault.jpg\n",
            "Completed Image ====> 16.apu-nahasapeemapetilon-the-simpsons-movie-8.64.jpg\n",
            "Completed Image ====> 17.the-simpsons-apu-bart.jpg\n",
            "Completed Image ====> 18.DOmHaI9d_400x400.jpg\n",
            "Completed Image ====> 19.mekmdbh6byu11.jpg\n",
            "Completed Image ====> 20.abrbP8r_460s.jpg\n",
            "Completed Image ====> 21.apu-the-simpsons-ht-005-jpo-180409_hpmain_16x9_1600.jpg\n",
            "Completed Image ====> 22.the-simpsons.jpg\n",
            "Completed Image ====> 23.the-sweetest-apu-nahasapeemapetilon.jpg\n",
            "Completed Image ====> 24.Simpsons_11_07_P3_640x360_332554307921.jpg\n",
            "Completed Image ====> 25.9635982-3x2-700x467.jpg\n",
            "Completed Image ====> 26.71005-11.jpg\n",
            "Completed Image ====> 27.tsmet57102o21.jpg\n",
            "Completed Image ====> 28.MV5BMTQ4OTc5NDUxOF5BMl5BanBnXkFtZTgwNjI3NTQ2MjE@._V1_UY1200_CR485,0,630,1200_AL_.jpg\n",
            "Completed Image ====> 29.1762015_0.jpg\n",
            "Completed Image ====> 30.3991530307_5682cf8748.jpg\n",
            "Completed Image ====> 31.original.jpg\n",
            "Completed Image ====> 32.imagev1ab1f0c628e3f87adc9dc784b85beedde-h2zcnn8jqx27q1fv6r2_ct1880x930.jpg\n",
            "Completed Image ====> 33.610HlIdWtlL._SY679_.jpg\n",
            "Completed Image ====> 34.apu.JPG\n",
            "Completed Image ====> 35.imgbin-apu-nahasapeemapetilon-the-simpsons-road-rage-bart-simpson-patty-bouvier-ralph-wiggum-bart-simpson-jKHDsEQFPmDx9Fx3H3yzmB52i.jpg\n",
            "Completed Image ====> 36.Apu-Nahasapeemapetilon.jpg\n",
            "Completed Image ====> 37.apu-nahasapeemapetilon.jpg\n",
            "Completed Image ====> 38.j84QUHM.jpg\n",
            "Completed Image ====> 39.Apu-Nahasapeemapetilon-1.jpg\n",
            "Completed Image ====> 40.apu-nahasapeemapetilon-26483.jpg\n",
            "Completed Image ====> 41.the-sweetest-apu-nahasapeemapetilon.jpg\n",
            "Completed Image ====> 42.4da35430ae5a925fe258f093429311b7--the-simpsons-hindu.jpg\n",
            "Completed Image ====> 43.apu.jpg\n",
            "Completed Image ====> 44.kisspng-reverend-lovejoy-apu-nahasapeemapetilon-homer-simp-scary-lion-pictures-5ab27aea453e66.1893205715216463142836.jpg\n",
            "Completed Image ====> 45.imgbin-bart-simpson-sideshow-bob-apu-nahasapeemapetilon-homer-simpson-krusty-the-clown-bart-simpson-LXEzGuq2yb0uc6bsV3wHYKjmY.jpg\n",
            "Wrong image format returned. Skipping...\n",
            "Completed Image ====> 46.vsaOUimjuiAhxcT-800x450-noPad.jpg\n",
            "Wrong image format returned. Skipping...\n",
            "Completed Image ====> 47.lego-apu-nahasapeemapetilon-with-name-tag-minifigure-25.jpg\n",
            "Wrong image format returned. Skipping...\n",
            "Completed Image ====> 48.79231-zbsqysskua-1516031557.jpg\n",
            "Completed Image ====> 49.apu-nahasapeemapetilon-homer-simpson-santa-s-little-helper-the-simpsons-hit-run-television-show-fox.jpg\n",
            "Completed Image ====> 50.xJd5BTts8nqXiAgw4ACcH5-320-80.jpg\n",
            "Completed Image ====> 51.apu_simpsons.jpg\n",
            "Completed Image ====> 52.748364-the-simpsons-apu.jpg\n",
            "Completed Image ====> 53.A-6944619-1548283964-2444.png.jpg\n",
            "Completed Image ====> 54.314599-1540773535-wide.jpg\n",
            "Completed Image ====> 55.600x600.jpg\n",
            "Completed Image ====> 56.15407255393830.jpg\n",
            "Completed Image ====> 57.s-l400.jpg\n",
            "Completed Image ====> 58.MV5BNDg2ZGJlMTUtN2I5OC00MDIyLThmMjItZjJlZmU3NmNhZTVkL2ltYWdlL2ltYWdlXkEyXkFqcGdeQXVyNjcwMzEzMTU@._V1_UY1200_CR196,0,630,1200_AL_.jpg\n",
            "Wrong image format returned. Skipping...\n",
            "Completed Image ====> 59.1762015_0.jpg\n",
            "Completed Image ====> 60.mr-burns-troy-mcclure-apu-nahasapeemapetilon-milhouse-van-houten-ned-flanders-zm.jpg\n",
            "Completed Image ====> 61.2186.jpg\n",
            "Completed Image ====> 62.ApuAndHomerSimpson-330x220.jpg\n",
            "Completed Image ====> 63.Apu_400x400.jpg\n",
            "Completed Image ====> 64.1134_apu.jpg\n",
            "Completed Image ====> 65.chief-wiggum-ralph-wiggum-apu-nahasapeemapetilon-moe-szyslak-duffman-policeman.jpg\n",
            "Completed Image ====> 66.apu-nahasapeemapetilon-chief-wiggum-barney-gumble-ralph-wiggum-waylon-smithers-png-favpng-6AqrSLR19j5mJk9cjKWkwHgia.jpg\n",
            "Completed Image ====> 67.hqdefault.jpg\n",
            "Completed Image ====> 68.kisspng-the-simpsons-tapped-out-apu-nahasapeemapetilon-ma-homero-5ac48cdadf9346.7295527515228305549158.jpg\n",
            "Completed Image ====> 69.apu_simpsons.jpg\n",
            "Completed Image ====> 70.74034-S10Fr.jpg\n",
            "Completed Image ====> 71.apu_simpson_2.jpg\n",
            "Completed Image ====> 72.Apu_-Matt_Groening-Simpsons-Kidrobot-trampt-1032m.jpg\n",
            "Completed Image ====> 73.the-simpsons-apu-nahasapeemapetilon-plush.jpg\n",
            "Completed Image ====> 74.107080-lnwwnsssft-1543723318.jpg\n",
            "Wrong image format returned. Skipping...\n",
            "Wrong image format returned. Skipping...\n",
            "Completed Image ====> 75.otto-mann-bart-simpson-kearney-zzyzwicz-apu-nahasapeemapetilon-ned-flanders-the-simpsons.jpg\n",
            "Completed Image ====> 76.The-Simpsons-4%22-Apu-Nahasapeemapetilon-Collectible-Figure-by-Character-Options.jpg\n",
            "Completed Image ====> 77.apu-nahasapeemapetilon-the-simpsons-virtual-springfield-90.1.jpg\n",
            "Completed Image ====> 78.apu_nahasapeemapetilon_by_12jack12_d4bfaet-pre.jpg\n",
            "Completed Image ====> 79.01-01-36.jpg\n",
            "Completed Image ====> 80.Simpsons_25_07_P3_640x360_320593475898.jpg\n",
            "Completed Image ====> 81.apu_logo.jpg\n",
            "Completed Image ====> 82.4255075952_214329f05e_m.jpg\n",
            "Completed Image ====> 83.tumblr_inline_p7ns79kWuO1qd1d30_1280.jpg\n",
            "Completed Image ====> 84.il_794xN.1513999065_emfp.jpg\n",
            "Completed Image ====> 85.Apu-71005-Lego-Simpsons-Minifigure-1.jpg\n",
            "Completed Image ====> 86.sm984kwik-e-mart-posters.jpg\n",
            "Completed Image ====> 87.kisspng-comic-book-guy-apu-nahasapeemapetilon-barney-gumbl-the-simpsons-5ac56141719867.2025220815228849294653.jpg\n",
            "Completed Image ====> 88.the-simpsons-apu-nahasapeemapetilon-wallpaper-preview.jpg\n",
            "\n",
            "\n",
            "Unfortunately all 100 could not be downloaded because some images were not downloadable. 88 is all we got for this search filter!\n",
            "\n",
            "Errors: 12\n",
            "\n"
          ],
          "name": "stdout"
        }
      ]
    },
    {
      "cell_type": "markdown",
      "metadata": {
        "id": "2sdnKg-AXpuq",
        "colab_type": "text"
      },
      "source": [
        "Checking how many images for each character we now have."
      ]
    },
    {
      "cell_type": "code",
      "metadata": {
        "id": "pwMwGQ0JXPyU",
        "colab_type": "code",
        "colab": {
          "base_uri": "https://localhost:8080/",
          "height": 255
        },
        "outputId": "36b569f8-37cf-4086-d5b5-99af9a13e7ca"
      },
      "source": [
        "characters = os.listdir('/content/simpsons/simpsons_dataset/simpsons_dataset')\n",
        "for character in characters:\n",
        "  num_images = len(os.listdir('/content/simpsons/simpsons_dataset/simpsons_dataset/' \n",
        "                              + character))\n",
        "  character_observations_sub_dict[character] = num_images\n",
        "  \n",
        "listofTuples = sorted(character_observations_sub_dict.items(), reverse=True,\n",
        "                      key=lambda x: x[1])\n",
        " \n",
        "# Iterate over the sorted sequence\n",
        "for elem in listofTuples :\n",
        "    print(\"{0:<26}{1:^2}{2:>13}\".format(elem[0],\"::\", str(elem[1]) + \" images.\"))"
      ],
      "execution_count": 15,
      "outputs": [
        {
          "output_type": "stream",
          "text": [
            "homer_simpson             :: 2246 images.\n",
            "ned_flanders              :: 1454 images.\n",
            "moe_szyslak               :: 1452 images.\n",
            "lisa_simpson              :: 1354 images.\n",
            "bart_simpson              :: 1342 images.\n",
            "marge_simpson             :: 1291 images.\n",
            "krusty_the_clown          :: 1206 images.\n",
            "principal_skinner         :: 1194 images.\n",
            "charles_montgomery_burns  :: 1193 images.\n",
            "milhouse_van_houten       :: 1161 images.\n",
            "chief_wiggum              :: 1067 images.\n",
            "abraham_grampa_simpson    ::  991 images.\n",
            "sideshow_bob              ::  963 images.\n",
            "apu_nahasapeemapetilon    ::  711 images.\n"
          ],
          "name": "stdout"
        }
      ]
    },
    {
      "cell_type": "markdown",
      "metadata": {
        "id": "uC1Iov6DVS-U",
        "colab_type": "text"
      },
      "source": [
        "Now we wish to store the images in a directory structure such that they can be used with the `ImageDataGenerator flow_from_directory`.\n",
        "\n",
        "The below function will help us transfer data from a directory and split it into two different directories (a training and validation set) randomly and at a ratio you specify."
      ]
    },
    {
      "cell_type": "code",
      "metadata": {
        "id": "i600mSVoVsU1",
        "colab_type": "code",
        "colab": {}
      },
      "source": [
        "def split_data(SOURCE, TRAINING, TESTING, SPLIT_SIZE):\n",
        "  files_list = os.listdir(SOURCE)\n",
        "  files_list = random.sample(files_list, len(files_list))\n",
        "  \n",
        "  for file in files_list:\n",
        "    file_path = SOURCE + file\n",
        "    if os.path.getsize(file_path) <= 0:\n",
        "      files_list.remove(file)\n",
        "      print(file + \" is zero length, so ignoring.\") \n",
        "\n",
        "  n = int(SPLIT_SIZE * len(files_list))\n",
        "  \n",
        "  for file in files_list[0:n]:\n",
        "    shutil.copyfile(SOURCE + file, TRAINING + file)\n",
        "      \n",
        "  for file in files_list[n:]:\n",
        "    shutil.copyfile(SOURCE + file, TESTING + file)\n",
        " "
      ],
      "execution_count": 0,
      "outputs": []
    },
    {
      "cell_type": "code",
      "metadata": {
        "id": "kYe6w5BcWAtb",
        "colab_type": "code",
        "colab": {}
      },
      "source": [
        "# Creating the directory structure for ImageDataGenerator\n",
        "base_dir = '/content/simpsons_generator'\n",
        "os.mkdir(base_dir)\n",
        "\n",
        "train_dir = os.path.join(base_dir, 'training')\n",
        "validation_dir = os.path.join(base_dir, 'validation')\n",
        "os.mkdir(train_dir)\n",
        "os.mkdir(validation_dir)\n",
        "\n",
        "characters = os.listdir('/content/simpsons/simpsons_dataset/simpsons_dataset')\n",
        "split_size = .9\n",
        "\n",
        "for character in characters:\n",
        "  char_train_dir = os.path.join(train_dir, character)\n",
        "  char_vald_dir = os.path.join(validation_dir, character)\n",
        "  os.mkdir(char_train_dir)\n",
        "  os.mkdir(char_vald_dir)\n",
        "  \n",
        "  source_dir = '/content/simpsons/simpsons_dataset/simpsons_dataset/' + character + '/'\n",
        "  \n",
        "  split_data(source_dir, char_train_dir + '/', char_vald_dir + '/', split_size)"
      ],
      "execution_count": 0,
      "outputs": []
    },
    {
      "cell_type": "markdown",
      "metadata": {
        "id": "zlhsZAuQc5VE",
        "colab_type": "text"
      },
      "source": [
        "We also wish to split the contents of the test data in /content/simpsons/kaggle_simpson_testset/kaggle_simpson_testset into a \"testing\" folder in our new directory.\n",
        "\n",
        "We run the below code to check what characters we have test images for."
      ]
    },
    {
      "cell_type": "code",
      "metadata": {
        "id": "Z4xPUvvXdGJF",
        "colab_type": "code",
        "colab": {
          "base_uri": "https://localhost:8080/",
          "height": 357
        },
        "outputId": "88073884-5f0c-49a1-8747-1ca69729d5f6"
      },
      "source": [
        "# Getting a list of images in our test directory\n",
        "images_list = os.listdir('/content/simpsons/kaggle_simpson_testset/kaggle_simpson_testset/')\n",
        "images_list.sort()\n",
        "\n",
        "# Using regex to remove numbers from list of image names\n",
        "def remove(list): \n",
        "    pattern = '[0-9]'\n",
        "    list = [re.sub(pattern, '', i) for i in list] \n",
        "    return list\n",
        "  \n",
        "images_list = remove(images_list)\n",
        "\n",
        "# Removing subscript from file name so only character name remains\n",
        "images_list = [character.replace(\"_.jpg\",\"\") for character in images_list]\n",
        "\n",
        "# Creating a freqency table for each character in our test set\n",
        "character_freq = {} \n",
        "  \n",
        "for i in images_list: \n",
        "  if i in character_freq: \n",
        "      character_freq[i] += 1\n",
        "  else: \n",
        "      character_freq[i] = 1\n",
        "\n",
        "# Printing the frequency table\n",
        "listofTuples = sorted(character_freq.items(), reverse=True,\n",
        "                      key=lambda x: x[1])\n",
        " \n",
        "# Iterate over the sorted sequence\n",
        "for elem in listofTuples :\n",
        "    print(\"{0:<26}{1:^2}{2:>13}\".format(elem[0],\"::\", str(elem[1]) + \" images.\"))"
      ],
      "execution_count": 33,
      "outputs": [
        {
          "output_type": "stream",
          "text": [
            "apu_nahasapeemapetilon    ::   50 images.\n",
            "bart_simpson              ::   50 images.\n",
            "chief_wiggum              ::   50 images.\n",
            "edna_krabappel            ::   50 images.\n",
            "homer_simpson             ::   50 images.\n",
            "kent_brockman             ::   50 images.\n",
            "krusty_the_clown          ::   50 images.\n",
            "lenny_leonard             ::   50 images.\n",
            "lisa_simpson              ::   50 images.\n",
            "marge_simpson             ::   50 images.\n",
            "mayor_quimby              ::   50 images.\n",
            "moe_szyslak               ::   50 images.\n",
            "nelson_muntz              ::   50 images.\n",
            "principal_skinner         ::   50 images.\n",
            "comic_book_guy            ::   49 images.\n",
            "milhouse_van_houten       ::   49 images.\n",
            "ned_flanders              ::   49 images.\n",
            "abraham_grampa_simpson    ::   48 images.\n",
            "charles_montgomery_burns  ::   48 images.\n",
            "sideshow_bob              ::   47 images.\n"
          ],
          "name": "stdout"
        }
      ]
    },
    {
      "cell_type": "markdown",
      "metadata": {
        "id": "8gr6X1KxjVF4",
        "colab_type": "text"
      },
      "source": [
        "Now we will send the test images into our test directory within /content/simpsons_generator but only if it is for a character we are using."
      ]
    },
    {
      "cell_type": "code",
      "metadata": {
        "id": "S0hvbM7Qk467",
        "colab_type": "code",
        "colab": {}
      },
      "source": [
        "# Creating our test images directory\n",
        "os.mkdir('/content/simpsons_generator/testing')\n",
        "os.mkdir('/content/simpsons_generator/testing/test_folder')"
      ],
      "execution_count": 0,
      "outputs": []
    },
    {
      "cell_type": "code",
      "metadata": {
        "id": "WkEonJ59j6yq",
        "colab_type": "code",
        "colab": {
          "base_uri": "https://localhost:8080/",
          "height": 255
        },
        "outputId": "9855ece4-5717-4d96-e262-e6514cb7c227"
      },
      "source": [
        "# Getting the list of characters we have in our training directory\n",
        "character_list = images_list = os.listdir('/content/simpsons_generator/training')\n",
        "\n",
        "# Getting a list of images in our test folder\n",
        "source = '/content/simpsons/kaggle_simpson_testset/kaggle_simpson_testset/'\n",
        "images_list = os.listdir(source)\n",
        "\n",
        "# Target test directory\n",
        "target = '/content/simpsons_generator/testing/test_folder/'\n",
        "\n",
        "for image in images_list:\n",
        "  character = re.sub('[0-9]', '', image).replace(\"_.jpg\",\"\")\n",
        "  if any(character == x for x in character_list):\n",
        "    shutil.copyfile(source + image, target + image)\n",
        "\n",
        "# Checking how many images we have in our new test directory    \n",
        "freq_test = {} \n",
        "test_images = os.listdir('/content/simpsons_generator/testing/test_folder')\n",
        "\n",
        "for i in test_images: \n",
        "  character = re.sub('[0-9]', '', i).replace(\"_.jpg\",\"\")\n",
        "  if character in freq_test: \n",
        "    freq_test[character] += 1\n",
        "  else: \n",
        "    freq_test[character] = 1\n",
        "\n",
        "# Printing the frequency table\n",
        "listofTuples = sorted(freq_test.items(), reverse=True,\n",
        "                      key=lambda x: x[1])\n",
        " \n",
        "# Iterate over the sorted sequence\n",
        "for elem in listofTuples :\n",
        "  print(\"{0:<26}{1:^2}{2:>13}\".format(elem[0],\"::\", str(elem[1]) + \" images.\"))"
      ],
      "execution_count": 53,
      "outputs": [
        {
          "output_type": "stream",
          "text": [
            "principal_skinner         ::   50 images.\n",
            "apu_nahasapeemapetilon    ::   50 images.\n",
            "chief_wiggum              ::   50 images.\n",
            "lisa_simpson              ::   50 images.\n",
            "marge_simpson             ::   50 images.\n",
            "krusty_the_clown          ::   50 images.\n",
            "bart_simpson              ::   50 images.\n",
            "moe_szyslak               ::   50 images.\n",
            "homer_simpson             ::   50 images.\n",
            "ned_flanders              ::   49 images.\n",
            "milhouse_van_houten       ::   49 images.\n",
            "charles_montgomery_burns  ::   48 images.\n",
            "abraham_grampa_simpson    ::   48 images.\n",
            "sideshow_bob              ::   47 images.\n"
          ],
          "name": "stdout"
        }
      ]
    },
    {
      "cell_type": "markdown",
      "metadata": {
        "id": "ZaJbjOjaZhQk",
        "colab_type": "text"
      },
      "source": [
        "# Saving to Google Drive"
      ]
    },
    {
      "cell_type": "code",
      "metadata": {
        "id": "X4oh8TbEaCEO",
        "colab_type": "code",
        "colab": {}
      },
      "source": [
        "# 1. Authenticate and create the PyDrive client.\n",
        "auth.authenticate_user()\n",
        "gauth = GoogleAuth()\n",
        "gauth.credentials = GoogleCredentials.get_application_default()\n",
        "drive = GoogleDrive(gauth)"
      ],
      "execution_count": 0,
      "outputs": []
    },
    {
      "cell_type": "code",
      "metadata": {
        "id": "rAuxFbbZbI-i",
        "colab_type": "code",
        "colab": {}
      },
      "source": [
        "zipname = 'simpsons_generator_directory'\n",
        "\n",
        "def zipfolder(foldername, target_dir):            \n",
        "    zipobj = zipfile.ZipFile(foldername + '.zip', 'w', zipfile.ZIP_DEFLATED)\n",
        "    rootlen = len(target_dir) + 1\n",
        "    for base, dirs, files in os.walk(target_dir):\n",
        "        for file in files:\n",
        "            fn = os.path.join(base, file)\n",
        "            zipobj.write(fn, fn[rootlen:])\n",
        "\n",
        "zipfolder(zipname, '/content/simpsons_generator')\n",
        "\n",
        "# 2. Create & upload a file text file.\n",
        "file1 = drive.CreateFile()\n",
        "file1.SetContentFile(zipname+\".zip\")\n",
        "file1.Upload()"
      ],
      "execution_count": 0,
      "outputs": []
    },
    {
      "cell_type": "markdown",
      "metadata": {
        "id": "bt4-e5I9xizw",
        "colab_type": "text"
      },
      "source": [
        "After opening the data locally, I looked through the images we downloaded through the google images search for each character and deleted the ones which don't have the character in it."
      ]
    }
  ]
}