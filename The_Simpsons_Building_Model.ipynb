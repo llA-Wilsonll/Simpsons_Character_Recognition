{
  "nbformat": 4,
  "nbformat_minor": 0,
  "metadata": {
    "colab": {
      "name": "The_Simpsons_Building_Model",
      "provenance": [],
      "collapsed_sections": [],
      "include_colab_link": true
    },
    "kernelspec": {
      "name": "python3",
      "display_name": "Python 3"
    },
    "accelerator": "GPU"
  },
  "cells": [
    {
      "cell_type": "markdown",
      "metadata": {
        "id": "view-in-github",
        "colab_type": "text"
      },
      "source": [
        "<a href=\"https://colab.research.google.com/github/llA-Wilsonll/Simpsons_Character_Recognition/blob/master/The_Simpsons_Building_Model.ipynb\" target=\"_parent\"><img src=\"https://colab.research.google.com/assets/colab-badge.svg\" alt=\"Open In Colab\"/></a>"
      ]
    },
    {
      "cell_type": "markdown",
      "metadata": {
        "id": "QApj9zxPZYmR",
        "colab_type": "text"
      },
      "source": [
        "Importing required packages"
      ]
    },
    {
      "cell_type": "code",
      "metadata": {
        "id": "y0uElbCkf03g",
        "colab_type": "code",
        "colab": {
          "base_uri": "https://localhost:8080/",
          "height": 35
        },
        "outputId": "5f346613-15e0-4a04-a0dc-5ba9c7c39438"
      },
      "source": [
        "%tensorflow_version 1.x\n",
        "import tensorflow as tf\n",
        "print(tf.__version__)"
      ],
      "execution_count": 1,
      "outputs": [
        {
          "output_type": "stream",
          "text": [
            "1.15.0\n"
          ],
          "name": "stdout"
        }
      ]
    },
    {
      "cell_type": "code",
      "metadata": {
        "id": "VdoNjnrMZV_S",
        "colab_type": "code",
        "colab": {}
      },
      "source": [
        "import re\n",
        "import itertools\n",
        "import numpy as np\n",
        "from tensorflow.keras.optimizers import Adam\n",
        "from tensorflow.keras.preprocessing.image import ImageDataGenerator\n",
        "import matplotlib.image  as mpimg\n",
        "import matplotlib.pyplot as plt\n",
        "import matplotlib.axes as ax\n",
        "from sklearn.metrics import classification_report, confusion_matrix\n",
        "\n",
        "from pydrive.auth import GoogleAuth\n",
        "from pydrive.drive import GoogleDrive\n",
        "from google.colab import auth\n",
        "from oauth2client.client import GoogleCredentials\n",
        "import zipfile \n",
        "import os"
      ],
      "execution_count": 0,
      "outputs": []
    },
    {
      "cell_type": "markdown",
      "metadata": {
        "id": "PEqq3egsTg6M",
        "colab_type": "text"
      },
      "source": [
        "# Loading the Data Directory\n",
        "We start off by loading the data (from Google Drive) which has already been prepared (in the The_Simpsons_Organise_Data Notebook) into a directory structure such that we can use the `ImageDataGenerator` method `flow_from_directory`."
      ]
    },
    {
      "cell_type": "code",
      "metadata": {
        "id": "E4qf6dW8Uq1e",
        "colab_type": "code",
        "colab": {
          "base_uri": "https://localhost:8080/",
          "height": 52
        },
        "outputId": "79d2b43f-b483-4b45-b15d-bf96236e048e"
      },
      "source": [
        "# Insert your file ID\n",
        "# An example : https://drive.google.com/file/d/1iz5JmTB4YcBvO7amj3Sy2_scSeAsN4gd/view?usp=sharing\n",
        "zip_id = '1Efm6aoutC8kQ36b-sCzewpj1pov4aoMB'\n",
        "\n",
        "# 1. Authenticate and create the PyDrive client.\n",
        "auth.authenticate_user()\n",
        "gauth = GoogleAuth()\n",
        "gauth.credentials = GoogleCredentials.get_application_default()\n",
        "drive = GoogleDrive(gauth)\n",
        "\n",
        "if not os.path.exists('/content/simpsons_generator'):\n",
        "    os.makedirs('/content/simpsons_generator')\n",
        "\n",
        "# 2. Download Zip\n",
        "print (\"Downloading zip file\")\n",
        "myzip = drive.CreateFile({'id': zip_id})\n",
        "myzip.GetContentFile('simpsons_generator_directory_edit.zip')\n",
        "\n",
        "# 3. Unzip\n",
        "print (\"Uncompressing zip file\")\n",
        "zip_ref = zipfile.ZipFile('simpsons_generator_directory_edit.zip', 'r')\n",
        "zip_ref.extractall('/content/simpsons_generator/')\n",
        "zip_ref.close()"
      ],
      "execution_count": 3,
      "outputs": [
        {
          "output_type": "stream",
          "text": [
            "Downloading zip file\n",
            "Uncompressing zip file\n"
          ],
          "name": "stdout"
        }
      ]
    },
    {
      "cell_type": "markdown",
      "metadata": {
        "id": "lEfTZ4LKW4jE",
        "colab_type": "text"
      },
      "source": [
        "## Training Images"
      ]
    },
    {
      "cell_type": "code",
      "metadata": {
        "id": "ujTqSy-BXiY3",
        "colab_type": "code",
        "colab": {}
      },
      "source": [
        "base_dir = '/content/simpsons_generator/simpsons_generator_directory_edit/'"
      ],
      "execution_count": 0,
      "outputs": []
    },
    {
      "cell_type": "code",
      "metadata": {
        "id": "7zC_8cLZW-lH",
        "colab_type": "code",
        "colab": {
          "base_uri": "https://localhost:8080/",
          "height": 277
        },
        "outputId": "a80be025-63ea-4466-a334-ed78ff1dbf81"
      },
      "source": [
        "characters = os.listdir(base_dir + 'training')\n",
        "\n",
        "num_images_train = {}\n",
        "for character in characters:\n",
        "  num_images = len(os.listdir(base_dir + 'training/' + character))\n",
        "  num_images_train[character] = num_images\n",
        "  \n",
        "# Printing the frequency table\n",
        "listofTuples = sorted(num_images_train.items(), reverse=True, key=lambda x: x[1])\n",
        " \n",
        "# Iterate over the sorted sequence\n",
        "print(\"NUMBER OF TRAINING IMAGES\")\n",
        "for elem in listofTuples :\n",
        "    print(\"{0:<26}{1:^2}{2:>13}\".format(elem[0],\"::\", str(elem[1]) + \" images.\"))"
      ],
      "execution_count": 5,
      "outputs": [
        {
          "output_type": "stream",
          "text": [
            "NUMBER OF TRAINING IMAGES\n",
            "homer_simpson             :: 2021 images.\n",
            "ned_flanders              :: 1308 images.\n",
            "moe_szyslak               :: 1306 images.\n",
            "lisa_simpson              :: 1218 images.\n",
            "bart_simpson              :: 1207 images.\n",
            "marge_simpson             :: 1161 images.\n",
            "krusty_the_clown          :: 1085 images.\n",
            "principal_skinner         :: 1074 images.\n",
            "charles_montgomery_burns  :: 1073 images.\n",
            "milhouse_van_houten       ::  996 images.\n",
            "chief_wiggum              ::  918 images.\n",
            "abraham_grampa_simpson    ::  852 images.\n",
            "sideshow_bob              ::  839 images.\n",
            "apu_nahasapeemapetilon    ::  602 images.\n"
          ],
          "name": "stdout"
        }
      ]
    },
    {
      "cell_type": "markdown",
      "metadata": {
        "id": "c0DGk6KsW_Hg",
        "colab_type": "text"
      },
      "source": [
        "## Validation Images"
      ]
    },
    {
      "cell_type": "code",
      "metadata": {
        "id": "5XlqgirgXBLC",
        "colab_type": "code",
        "colab": {
          "base_uri": "https://localhost:8080/",
          "height": 277
        },
        "outputId": "a235cdce-27b9-4dd1-b35e-ff06f4037133"
      },
      "source": [
        "characters = os.listdir(base_dir + 'validation')\n",
        "\n",
        "num_images_valid = {}\n",
        "for character in characters:\n",
        "  num_images = len(os.listdir(base_dir + 'validation/' + character))\n",
        "  num_images_valid[character] = num_images\n",
        "  \n",
        "# Printing the frequency table\n",
        "listofTuples = sorted(num_images_valid.items(), reverse=True, key=lambda x: x[1])\n",
        " \n",
        "# Iterate over the sorted sequence\n",
        "print(\"NUMBER OF VALIDATION IMAGES\")\n",
        "for elem in listofTuples :\n",
        "    print(\"{0:<26}{1:^2}{2:>13}\".format(elem[0],\"::\", str(elem[1]) + \" images.\"))"
      ],
      "execution_count": 6,
      "outputs": [
        {
          "output_type": "stream",
          "text": [
            "NUMBER OF VALIDATION IMAGES\n",
            "homer_simpson             ::  225 images.\n",
            "ned_flanders              ::  146 images.\n",
            "moe_szyslak               ::  146 images.\n",
            "lisa_simpson              ::  136 images.\n",
            "bart_simpson              ::  135 images.\n",
            "marge_simpson             ::  130 images.\n",
            "krusty_the_clown          ::  121 images.\n",
            "principal_skinner         ::  120 images.\n",
            "charles_montgomery_burns  ::  120 images.\n",
            "milhouse_van_houten       ::  115 images.\n",
            "chief_wiggum              ::  105 images.\n",
            "sideshow_bob              ::   96 images.\n",
            "abraham_grampa_simpson    ::   96 images.\n",
            "apu_nahasapeemapetilon    ::   70 images.\n"
          ],
          "name": "stdout"
        }
      ]
    },
    {
      "cell_type": "markdown",
      "metadata": {
        "id": "opahOS-CXBiC",
        "colab_type": "text"
      },
      "source": [
        "## Test Images"
      ]
    },
    {
      "cell_type": "code",
      "metadata": {
        "id": "wSe2uvKrXJyi",
        "colab_type": "code",
        "colab": {
          "base_uri": "https://localhost:8080/",
          "height": 277
        },
        "outputId": "2a06b755-81a9-4726-bcf1-6dbbab88d4ce"
      },
      "source": [
        "# Getting a list of images in our test directory\n",
        "images_list = os.listdir(base_dir + 'testing/test_folder')\n",
        "\n",
        "# Using regex to remove numbers from list of image names\n",
        "def remove(list): \n",
        "    pattern = '[0-9]'\n",
        "    list = [re.sub(pattern, '', i) for i in list] \n",
        "    return list\n",
        "  \n",
        "images_list = remove(images_list)\n",
        "\n",
        "# Removing subscript from file name so only character name remains\n",
        "images_list = [character.replace(\"_.jpg\",\"\") for character in images_list]\n",
        "\n",
        "# Creating a freqency table for each character in our test set\n",
        "num_images_test = {} \n",
        "  \n",
        "for i in images_list: \n",
        "  if i in num_images_test: \n",
        "      num_images_test[i] += 1\n",
        "  else: \n",
        "      num_images_test[i] = 1\n",
        "\n",
        "# Printing the frequency table\n",
        "listofTuples = sorted(num_images_test.items(), reverse=True,\n",
        "                      key=lambda x: x[1])\n",
        " \n",
        "print(\"NUMBER OF TESTING IMAGES\")\n",
        "# Iterate over the sorted sequence\n",
        "for elem in listofTuples :\n",
        "    print(\"{0:<26}{1:^2}{2:>13}\".format(elem[0],\"::\", str(elem[1]) + \" images.\"))"
      ],
      "execution_count": 7,
      "outputs": [
        {
          "output_type": "stream",
          "text": [
            "NUMBER OF TESTING IMAGES\n",
            "moe_szyslak               ::   50 images.\n",
            "krusty_the_clown          ::   50 images.\n",
            "lisa_simpson              ::   50 images.\n",
            "bart_simpson              ::   50 images.\n",
            "chief_wiggum              ::   50 images.\n",
            "apu_nahasapeemapetilon    ::   50 images.\n",
            "homer_simpson             ::   50 images.\n",
            "principal_skinner         ::   50 images.\n",
            "marge_simpson             ::   50 images.\n",
            "ned_flanders              ::   49 images.\n",
            "milhouse_van_houten       ::   49 images.\n",
            "charles_montgomery_burns  ::   48 images.\n",
            "abraham_grampa_simpson    ::   48 images.\n",
            "sideshow_bob              ::   47 images.\n"
          ],
          "name": "stdout"
        }
      ]
    },
    {
      "cell_type": "markdown",
      "metadata": {
        "id": "q2MJadZdZ6Ac",
        "colab_type": "text"
      },
      "source": [
        "# Baseline Model\n",
        "## Defining the Model\n",
        "We will start off with a simple model whose accuracy will act as a baseline target for which we will try to improve upon (assuming the baseline isn't already good)."
      ]
    },
    {
      "cell_type": "code",
      "metadata": {
        "id": "V5nJalPoc8NQ",
        "colab_type": "code",
        "colab": {
          "base_uri": "https://localhost:8080/",
          "height": 35
        },
        "outputId": "98046391-dbcd-4219-9f56-82db1744cac1"
      },
      "source": [
        "# Getting the number of classes (characters) we are training on\n",
        "num_characters = len(os.listdir(base_dir + 'training'))\n",
        "print(\"We have\", num_characters, \"characters.\")\n",
        "\n",
        "# DEFINE A KERAS MODEL TO CLASSIFY CATS V DOGS\n",
        "# USE AT LEAST 3 CONVOLUTION LAYERS\n",
        "model = tf.keras.models.Sequential([\n",
        "    tf.keras.layers.Conv2D(16, (3, 3), activation='relu', input_shape=(64, 64, 3)),\n",
        "    tf.keras.layers.MaxPooling2D(2, 2),\n",
        "    tf.keras.layers.Conv2D(32, (3, 3), activation='relu'),\n",
        "    tf.keras.layers.MaxPooling2D(2, 2),\n",
        "    tf.keras.layers.Conv2D(64, (3, 3), activation='relu'),\n",
        "    tf.keras.layers.MaxPooling2D(2, 2),\n",
        "    tf.keras.layers.Flatten(),\n",
        "    tf.keras.layers.Dense(512, activation='relu'),\n",
        "    tf.keras.layers.Dense(num_characters, activation='softmax')\n",
        "])\n",
        "\n",
        "model.compile(optimizer=Adam(), loss='categorical_crossentropy', metrics=['acc'])"
      ],
      "execution_count": 20,
      "outputs": [
        {
          "output_type": "stream",
          "text": [
            "We have 14 characters.\n"
          ],
          "name": "stdout"
        }
      ]
    },
    {
      "cell_type": "markdown",
      "metadata": {
        "id": "ykXkVnnSg_db",
        "colab_type": "text"
      },
      "source": [
        "Using the `flow_from_directory` method from `ImageDataGenerator` to point to our training and validation data."
      ]
    },
    {
      "cell_type": "code",
      "metadata": {
        "id": "ZEYX1EFxg-KC",
        "colab_type": "code",
        "colab": {
          "base_uri": "https://localhost:8080/",
          "height": 52
        },
        "outputId": "7a209058-25d5-4393-8104-945f8240caaf"
      },
      "source": [
        "TRAINING_DIR = base_dir + 'training/'\n",
        "train_datagen = ImageDataGenerator(rescale=1.0/255.)\n",
        "train_generator = train_datagen.flow_from_directory(TRAINING_DIR,\n",
        "                                                    batch_size=100,\n",
        "                                                    class_mode='categorical',\n",
        "                                                    target_size=(64, 64))\n",
        "\n",
        "VALIDATION_DIR = base_dir + 'validation/'\n",
        "validation_datagen = ImageDataGenerator(rescale=1.0/255.)\n",
        "validation_generator = validation_datagen.flow_from_directory(VALIDATION_DIR,\n",
        "                                                              batch_size=100,\n",
        "                                                              class_mode='categorical',\n",
        "                                                              target_size=(64, 64))"
      ],
      "execution_count": 8,
      "outputs": [
        {
          "output_type": "stream",
          "text": [
            "Found 15660 images belonging to 14 classes.\n",
            "Found 1761 images belonging to 14 classes.\n"
          ],
          "name": "stdout"
        }
      ]
    },
    {
      "cell_type": "markdown",
      "metadata": {
        "id": "OuLW6hAPmQWd",
        "colab_type": "text"
      },
      "source": [
        "## Training the Model"
      ]
    },
    {
      "cell_type": "code",
      "metadata": {
        "id": "I4DnDa_niQh7",
        "colab_type": "code",
        "colab": {
          "base_uri": "https://localhost:8080/",
          "height": 817
        },
        "outputId": "a55dfab8-d19d-43f6-af27-5e1ad25016cc"
      },
      "source": [
        "history = model.fit_generator(train_generator,\n",
        "                              epochs=15,\n",
        "                              verbose=1,\n",
        "                              validation_data=validation_generator)"
      ],
      "execution_count": 24,
      "outputs": [
        {
          "output_type": "stream",
          "text": [
            "Epoch 1/15\n",
            "156/157 [============================>.] - ETA: 0s - loss: 1.9462 - acc: 0.3706Epoch 1/15\n",
            "157/157 [==============================] - 53s 336ms/step - loss: 1.9426 - acc: 0.3720 - val_loss: 1.4457 - val_acc: 0.5309\n",
            "Epoch 2/15\n",
            "156/157 [============================>.] - ETA: 0s - loss: 1.1959 - acc: 0.6348Epoch 1/15\n",
            "157/157 [==============================] - 49s 309ms/step - loss: 1.1946 - acc: 0.6352 - val_loss: 1.0236 - val_acc: 0.6826\n",
            "Epoch 3/15\n",
            "156/157 [============================>.] - ETA: 0s - loss: 0.8552 - acc: 0.7335Epoch 1/15\n",
            "157/157 [==============================] - 48s 307ms/step - loss: 0.8551 - acc: 0.7337 - val_loss: 0.8613 - val_acc: 0.7325\n",
            "Epoch 4/15\n",
            "156/157 [============================>.] - ETA: 0s - loss: 0.6323 - acc: 0.8069Epoch 1/15\n",
            "157/157 [==============================] - 48s 307ms/step - loss: 0.6324 - acc: 0.8068 - val_loss: 0.7192 - val_acc: 0.7853\n",
            "Epoch 5/15\n",
            "156/157 [============================>.] - ETA: 0s - loss: 0.4562 - acc: 0.8606Epoch 1/15\n",
            "157/157 [==============================] - 48s 307ms/step - loss: 0.4562 - acc: 0.8606 - val_loss: 0.6752 - val_acc: 0.7967\n",
            "Epoch 6/15\n",
            "156/157 [============================>.] - ETA: 0s - loss: 0.3172 - acc: 0.9051Epoch 1/15\n",
            "157/157 [==============================] - 48s 307ms/step - loss: 0.3177 - acc: 0.9049 - val_loss: 0.6427 - val_acc: 0.8154\n",
            "Epoch 7/15\n",
            "156/157 [============================>.] - ETA: 0s - loss: 0.2051 - acc: 0.9386Epoch 1/15\n",
            "157/157 [==============================] - 48s 304ms/step - loss: 0.2050 - acc: 0.9386 - val_loss: 0.6479 - val_acc: 0.8268\n",
            "Epoch 8/15\n",
            "156/157 [============================>.] - ETA: 0s - loss: 0.1192 - acc: 0.9656Epoch 1/15\n",
            "157/157 [==============================] - 48s 309ms/step - loss: 0.1193 - acc: 0.9656 - val_loss: 0.7199 - val_acc: 0.8211\n",
            "Epoch 9/15\n",
            "156/157 [============================>.] - ETA: 0s - loss: 0.0853 - acc: 0.9753Epoch 1/15\n",
            "157/157 [==============================] - 49s 309ms/step - loss: 0.0852 - acc: 0.9754 - val_loss: 0.7445 - val_acc: 0.8342\n",
            "Epoch 10/15\n",
            "156/157 [============================>.] - ETA: 0s - loss: 0.0485 - acc: 0.9877Epoch 1/15\n",
            "157/157 [==============================] - 48s 309ms/step - loss: 0.0484 - acc: 0.9877 - val_loss: 0.8031 - val_acc: 0.8211\n",
            "Epoch 11/15\n",
            "156/157 [============================>.] - ETA: 0s - loss: 0.0367 - acc: 0.9909Epoch 1/15\n",
            "157/157 [==============================] - 48s 308ms/step - loss: 0.0369 - acc: 0.9907 - val_loss: 0.8176 - val_acc: 0.8240\n",
            "Epoch 12/15\n",
            "156/157 [============================>.] - ETA: 0s - loss: 0.0305 - acc: 0.9927Epoch 1/15\n",
            "157/157 [==============================] - 48s 309ms/step - loss: 0.0305 - acc: 0.9927 - val_loss: 0.8717 - val_acc: 0.8410\n",
            "Epoch 13/15\n",
            "156/157 [============================>.] - ETA: 0s - loss: 0.0105 - acc: 0.9988Epoch 1/15\n",
            "157/157 [==============================] - 48s 307ms/step - loss: 0.0105 - acc: 0.9987 - val_loss: 0.8860 - val_acc: 0.8427\n",
            "Epoch 14/15\n",
            "156/157 [============================>.] - ETA: 0s - loss: 0.0049 - acc: 0.9997Epoch 1/15\n",
            "157/157 [==============================] - 48s 308ms/step - loss: 0.0049 - acc: 0.9997 - val_loss: 0.9332 - val_acc: 0.8387\n",
            "Epoch 15/15\n",
            "156/157 [============================>.] - ETA: 0s - loss: 0.0056 - acc: 0.9997Epoch 1/15\n",
            "157/157 [==============================] - 48s 308ms/step - loss: 0.0055 - acc: 0.9997 - val_loss: 0.9227 - val_acc: 0.8450\n"
          ],
          "name": "stdout"
        }
      ]
    },
    {
      "cell_type": "markdown",
      "metadata": {
        "id": "dooe-_aPczJM",
        "colab_type": "text"
      },
      "source": [
        "Plotting the Loss and Accuracy:"
      ]
    },
    {
      "cell_type": "code",
      "metadata": {
        "id": "S0c2yo51mNRs",
        "colab_type": "code",
        "colab": {
          "base_uri": "https://localhost:8080/",
          "height": 563
        },
        "outputId": "ccc6a80e-8db5-4258-82c2-58ddcf2f471c"
      },
      "source": [
        "%matplotlib inline\n",
        "\n",
        "#-----------------------------------------------------------\n",
        "# Retrieve a list of list results on training and test data\n",
        "# sets for each training epoch\n",
        "#-----------------------------------------------------------\n",
        "acc=history.history['acc']\n",
        "val_acc=history.history['val_acc']\n",
        "loss=history.history['loss']\n",
        "val_loss=history.history['val_loss']\n",
        "\n",
        "epochs=range(len(acc)) # Get number of epochs\n",
        "\n",
        "#------------------------------------------------\n",
        "# Plot training and validation accuracy per epoch\n",
        "#------------------------------------------------\n",
        "plt.plot(epochs, acc, 'r', label = \"Training Accuracy\")\n",
        "plt.plot(epochs, val_acc, 'b', label = \"Validation Accuracy\")\n",
        "plt.title('Training and validation accuracy')\n",
        "plt.legend(loc='upper left')\n",
        "plt.figure()\n",
        "\n",
        "#------------------------------------------------\n",
        "# Plot training and validation loss per epoch\n",
        "#------------------------------------------------\n",
        "plt.plot(epochs, loss, 'r', label = \"Training Loss\")\n",
        "plt.plot(epochs, val_loss, 'b', label = \"Validation Loss\")\n",
        "plt.legend(loc='upper left')\n",
        "\n",
        "\n",
        "plt.title('Training and validation loss')\n",
        "\n",
        "# Desired output. Charts with training and validation metrics. No crash :)"
      ],
      "execution_count": 37,
      "outputs": [
        {
          "output_type": "execute_result",
          "data": {
            "text/plain": [
              "Text(0.5, 1.0, 'Training and validation loss')"
            ]
          },
          "metadata": {
            "tags": []
          },
          "execution_count": 37
        },
        {
          "output_type": "display_data",
          "data": {
            "image/png": "[encoded data removed]",
            "text/plain": [
              "<Figure size 432x288 with 1 Axes>"
            ]
          },
          "metadata": {
            "tags": []
          }
        },
        {
          "output_type": "display_data",
          "data": {
            "image/png": "[encoded data removed]",
            "text/plain": [
              "<Figure size 432x288 with 1 Axes>"
            ]
          },
          "metadata": {
            "tags": []
          }
        }
      ]
    },
    {
      "cell_type": "markdown",
      "metadata": {
        "id": "5O_dQnZH1Li6",
        "colab_type": "text"
      },
      "source": [
        "It is clear that our model is overfitting. It is achieving an accuracy of 99.97% on the training set and only 84.5% on the validation set."
      ]
    },
    {
      "cell_type": "markdown",
      "metadata": {
        "id": "1b8F2T2PBy9D",
        "colab_type": "text"
      },
      "source": [
        "## Saving the Model\n",
        "So that we don't have to retrain the model eveytime we want to run this workbook, I will save the model to a h5 file, and store it in Google Drive."
      ]
    },
    {
      "cell_type": "code",
      "metadata": {
        "id": "1ijSgjAkB27Q",
        "colab_type": "code",
        "colab": {}
      },
      "source": [
        "# Saving the model locally\n",
        "model.save('/content/simpsons_baseline_model.h5')"
      ],
      "execution_count": 0,
      "outputs": []
    },
    {
      "cell_type": "markdown",
      "metadata": {
        "id": "CJxba-qnZoTz",
        "colab_type": "text"
      },
      "source": [
        "Saving this h5 file into Google Drive."
      ]
    },
    {
      "cell_type": "code",
      "metadata": {
        "id": "9Ikfp_0MD88j",
        "colab_type": "code",
        "colab": {}
      },
      "source": [
        "# 1. Authenticate and create the PyDrive client.\n",
        "auth.authenticate_user()\n",
        "gauth = GoogleAuth()\n",
        "gauth.credentials = GoogleCredentials.get_application_default()\n",
        "drive = GoogleDrive(gauth)\n",
        "\n",
        "# Saving to GoogleDrive\n",
        "file1 = drive.CreateFile()\n",
        "file1.SetContentFile('simpsons_baseline_model.h5')\n",
        "file1.Upload()"
      ],
      "execution_count": 0,
      "outputs": []
    },
    {
      "cell_type": "markdown",
      "metadata": {
        "id": "Hxdrnmx8aGGU",
        "colab_type": "text"
      },
      "source": [
        "### Loading the Model from Google Drive\n",
        "After I train the model the first time and save it, in all future sessions I want to use this model I can skip the model defining, training and saving steps and start from here.  "
      ]
    },
    {
      "cell_type": "code",
      "metadata": {
        "id": "L4sAo_dta0lb",
        "colab_type": "code",
        "colab": {}
      },
      "source": [
        "# 1. Authenticate and create the PyDrive client.\n",
        "auth.authenticate_user()\n",
        "gauth = GoogleAuth()\n",
        "gauth.credentials = GoogleCredentials.get_application_default()\n",
        "drive = GoogleDrive(gauth)"
      ],
      "execution_count": 0,
      "outputs": []
    },
    {
      "cell_type": "code",
      "metadata": {
        "id": "zdSyY0sWbI-I",
        "colab_type": "code",
        "colab": {
          "base_uri": "https://localhost:8080/",
          "height": 35
        },
        "outputId": "c63b08cc-0b75-4e59-8c6c-d70c8a98dd58"
      },
      "source": [
        "# 2. Download h5 file\n",
        "h5_id = '1q7dKR7dkusAJlIfa4RRxEzlLjnbIJzZ3'\n",
        "print (\"Downloading h5 file\")\n",
        "myzip = drive.CreateFile({'id': h5_id})\n",
        "myzip.GetContentFile('simpsons_baseline_model.h5')"
      ],
      "execution_count": 10,
      "outputs": [
        {
          "output_type": "stream",
          "text": [
            "Downloading h5 file\n"
          ],
          "name": "stdout"
        }
      ]
    },
    {
      "cell_type": "code",
      "metadata": {
        "id": "6VZNWYQbCgdZ",
        "colab_type": "code",
        "colab": {
          "base_uri": "https://localhost:8080/",
          "height": 644
        },
        "outputId": "f3db54ee-0ff7-49a1-8a61-6553621706e2"
      },
      "source": [
        "model_load = tf.keras.models.load_model('/content/simpsons_baseline_model.h5')\n",
        "\n",
        "# Show the model architecture\n",
        "model_load.summary()"
      ],
      "execution_count": 11,
      "outputs": [
        {
          "output_type": "stream",
          "text": [
            "WARNING:tensorflow:From /usr/local/lib/python3.6/dist-packages/tensorflow_core/python/ops/init_ops.py:97: calling GlorotUniform.__init__ (from tensorflow.python.ops.init_ops) with dtype is deprecated and will be removed in a future version.\n",
            "Instructions for updating:\n",
            "Call initializer instance with the dtype argument instead of passing it to the constructor\n",
            "WARNING:tensorflow:From /usr/local/lib/python3.6/dist-packages/tensorflow_core/python/ops/init_ops.py:97: calling Zeros.__init__ (from tensorflow.python.ops.init_ops) with dtype is deprecated and will be removed in a future version.\n",
            "Instructions for updating:\n",
            "Call initializer instance with the dtype argument instead of passing it to the constructor\n",
            "WARNING:tensorflow:From /usr/local/lib/python3.6/dist-packages/tensorflow_core/python/ops/resource_variable_ops.py:1630: calling BaseResourceVariable.__init__ (from tensorflow.python.ops.resource_variable_ops) with constraint is deprecated and will be removed in a future version.\n",
            "Instructions for updating:\n",
            "If using Keras pass *_constraint arguments to layers.\n",
            "Model: \"sequential_1\"\n",
            "_________________________________________________________________\n",
            "Layer (type)                 Output Shape              Param #   \n",
            "=================================================================\n",
            "conv2d_3 (Conv2D)            (None, 62, 62, 16)        448       \n",
            "_________________________________________________________________\n",
            "max_pooling2d_3 (MaxPooling2 (None, 31, 31, 16)        0         \n",
            "_________________________________________________________________\n",
            "conv2d_4 (Conv2D)            (None, 29, 29, 32)        4640      \n",
            "_________________________________________________________________\n",
            "max_pooling2d_4 (MaxPooling2 (None, 14, 14, 32)        0         \n",
            "_________________________________________________________________\n",
            "conv2d_5 (Conv2D)            (None, 12, 12, 64)        18496     \n",
            "_________________________________________________________________\n",
            "max_pooling2d_5 (MaxPooling2 (None, 6, 6, 64)          0         \n",
            "_________________________________________________________________\n",
            "flatten_1 (Flatten)          (None, 2304)              0         \n",
            "_________________________________________________________________\n",
            "dense_2 (Dense)              (None, 512)               1180160   \n",
            "_________________________________________________________________\n",
            "dense_3 (Dense)              (None, 14)                7182      \n",
            "=================================================================\n",
            "Total params: 1,210,926\n",
            "Trainable params: 1,210,926\n",
            "Non-trainable params: 0\n",
            "_________________________________________________________________\n"
          ],
          "name": "stdout"
        }
      ]
    },
    {
      "cell_type": "markdown",
      "metadata": {
        "id": "U7WQwEnCmUYr",
        "colab_type": "text"
      },
      "source": [
        "## Evaluating the Model"
      ]
    },
    {
      "cell_type": "markdown",
      "metadata": {
        "id": "IT0cyUtYrj19",
        "colab_type": "text"
      },
      "source": [
        "We now want to get a better sense of how our final model is performing on the validation data set.\n",
        "\n",
        "Below we define a new generator on our validation set because we want to grab all images from our validation set exactly once and so we set the batch_size to 1."
      ]
    },
    {
      "cell_type": "code",
      "metadata": {
        "id": "sr5-8dZ-rsSo",
        "colab_type": "code",
        "colab": {
          "base_uri": "https://localhost:8080/",
          "height": 35
        },
        "outputId": "997934c7-6e3a-4ed4-c9c2-ee33b01e8514"
      },
      "source": [
        "validation_test_datagen = ImageDataGenerator(rescale=1.0/255.)\n",
        "validation_test_generator = validation_test_datagen.flow_from_directory(\n",
        "    directory = base_dir + 'validation/',\n",
        "    target_size=(64, 64),\n",
        "    batch_size=1,\n",
        "    class_mode='categorical',\n",
        "    shuffle=False\n",
        ")"
      ],
      "execution_count": 12,
      "outputs": [
        {
          "output_type": "stream",
          "text": [
            "Found 1761 images belonging to 14 classes.\n"
          ],
          "name": "stdout"
        }
      ]
    },
    {
      "cell_type": "markdown",
      "metadata": {
        "id": "k1MphWE_xE01",
        "colab_type": "text"
      },
      "source": [
        "Seeing how well our model performs with the validation set as its input."
      ]
    },
    {
      "cell_type": "code",
      "metadata": {
        "id": "guMwtHnnCs8l",
        "colab_type": "code",
        "colab": {}
      },
      "source": [
        "test = model_load.evaluate_generator(generator=validation_test_generator,\n",
        "                        steps=len(validation_test_generator))"
      ],
      "execution_count": 0,
      "outputs": []
    },
    {
      "cell_type": "code",
      "metadata": {
        "id": "t87_UEWveKa4",
        "colab_type": "code",
        "colab": {
          "base_uri": "https://localhost:8080/",
          "height": 35
        },
        "outputId": "444596c6-09b1-4bf1-a1cf-223ae1b132e5"
      },
      "source": [
        "# print(model.metrics_names)\n",
        "print(\"The Validation Loss is:\", test[1])"
      ],
      "execution_count": 15,
      "outputs": [
        {
          "output_type": "stream",
          "text": [
            "The Validation Loss is: 0.84497446\n"
          ],
          "name": "stdout"
        }
      ]
    },
    {
      "cell_type": "markdown",
      "metadata": {
        "id": "Fq3S9eIlxP4z",
        "colab_type": "text"
      },
      "source": [
        "We want to take the evaluation further and analyse how well the model performed for each of the different character classes.\n",
        "\n",
        "We run the below code to get a sense of what information on the classess we can get from the `validation_test_generator`."
      ]
    },
    {
      "cell_type": "code",
      "metadata": {
        "id": "hQr_rBeJ4zSk",
        "colab_type": "code",
        "colab": {
          "base_uri": "https://localhost:8080/",
          "height": 89
        },
        "outputId": "26990ffc-bff4-4303-dd94-11432da3aea0"
      },
      "source": [
        "# See what classes we have\n",
        "print(validation_test_generator.classes) \n",
        "\n",
        "# See how many validation images we have\n",
        "print(len(validation_test_generator.classes))\n",
        "\n",
        "# See what class index corresponds to which character\n",
        "print(validation_test_generator.class_indices) "
      ],
      "execution_count": 16,
      "outputs": [
        {
          "output_type": "stream",
          "text": [
            "[ 0  0  0 ... 13 13 13]\n",
            "1761\n",
            "{'abraham_grampa_simpson': 0, 'apu_nahasapeemapetilon': 1, 'bart_simpson': 2, 'charles_montgomery_burns': 3, 'chief_wiggum': 4, 'homer_simpson': 5, 'krusty_the_clown': 6, 'lisa_simpson': 7, 'marge_simpson': 8, 'milhouse_van_houten': 9, 'moe_szyslak': 10, 'ned_flanders': 11, 'principal_skinner': 12, 'sideshow_bob': 13}\n"
          ],
          "name": "stdout"
        }
      ]
    },
    {
      "cell_type": "code",
      "metadata": {
        "id": "qqBcN4D12q8F",
        "colab_type": "code",
        "colab": {}
      },
      "source": [
        "target_names = validation_test_generator.class_indices\n",
        "\n",
        "# Using our model to make predictions on the validation_test_generator\n",
        "Y_pred = model_load.predict_generator(generator=validation_test_generator, \n",
        "                                      steps=len(validation_test_generator))\n",
        "\n",
        "# Returning the class with the highest prediction chance\n",
        "y_pred = np.argmax(Y_pred, axis=1)"
      ],
      "execution_count": 0,
      "outputs": []
    },
    {
      "cell_type": "markdown",
      "metadata": {
        "id": "LBOQvGq3yMMu",
        "colab_type": "text"
      },
      "source": [
        "### Classification Report"
      ]
    },
    {
      "cell_type": "code",
      "metadata": {
        "id": "OWNUIXuIBaBr",
        "colab_type": "code",
        "colab": {
          "base_uri": "https://localhost:8080/",
          "height": 399
        },
        "outputId": "f36014f1-35c5-4fef-cb9d-1e48e4dcff82"
      },
      "source": [
        "print('Classification Report')\n",
        "print(classification_report(validation_test_generator.classes, y_pred, target_names=target_names))"
      ],
      "execution_count": 20,
      "outputs": [
        {
          "output_type": "stream",
          "text": [
            "Classification Report\n",
            "                          precision    recall  f1-score   support\n",
            "\n",
            "  abraham_grampa_simpson       0.89      0.74      0.81        96\n",
            "  apu_nahasapeemapetilon       0.86      0.89      0.87        70\n",
            "            bart_simpson       0.74      0.71      0.73       135\n",
            "charles_montgomery_burns       0.78      0.73      0.76       120\n",
            "            chief_wiggum       0.90      0.90      0.90       105\n",
            "           homer_simpson       0.85      0.83      0.84       225\n",
            "        krusty_the_clown       0.86      0.90      0.88       121\n",
            "            lisa_simpson       0.77      0.74      0.75       136\n",
            "           marge_simpson       0.89      0.93      0.91       130\n",
            "     milhouse_van_houten       0.88      0.92      0.90       115\n",
            "             moe_szyslak       0.78      0.88      0.83       146\n",
            "            ned_flanders       0.89      0.90      0.89       146\n",
            "       principal_skinner       0.89      0.88      0.88       120\n",
            "            sideshow_bob       0.90      0.92      0.91        96\n",
            "\n",
            "                accuracy                           0.84      1761\n",
            "               macro avg       0.85      0.85      0.85      1761\n",
            "            weighted avg       0.84      0.84      0.84      1761\n",
            "\n"
          ],
          "name": "stdout"
        }
      ]
    },
    {
      "cell_type": "markdown",
      "metadata": {
        "id": "eeeFuoCyyTDG",
        "colab_type": "text"
      },
      "source": [
        "### Confusion Matrix"
      ]
    },
    {
      "cell_type": "code",
      "metadata": {
        "id": "e6D9LE9fBODj",
        "colab_type": "code",
        "colab": {
          "base_uri": "https://localhost:8080/",
          "height": 721
        },
        "outputId": "f6f3dd8e-7d45-47d6-9332-0ac9be88d5c2"
      },
      "source": [
        "print('Confusion Matrix')\n",
        "# Creating the confusion matrix as a Numpy array\n",
        "conf_mtrx = confusion_matrix(validation_test_generator.classes, y_pred)\n",
        "\n",
        "# Creating a Figure to plot the confusion matirx\n",
        "fig = plt.figure(figsize = (10,10))\n",
        "plt.imshow(conf_mtrx, interpolation='none', cmap=plt.cm.Blues)\n",
        "\n",
        "# Title\n",
        "plt.title('Confusion matrix of Simpsons Character Classifications')\n",
        "\n",
        "# Adding a colour bar\n",
        "plt.colorbar()\n",
        "\n",
        "# Adding the character names to the X and Y axes\n",
        "plt.xticks(tick_marks, target_names, rotation=90)\n",
        "plt.yticks(tick_marks, target_names)\n",
        "\n",
        "# Adding labels to the X and Y axes\n",
        "plt.xlabel('Predicted Label')\n",
        "plt.ylabel('True Label')\n",
        "\n",
        "# Displaying the values for each entry in the confusion matrix\n",
        "thresh = conf_mtrx.max() / 2.\n",
        "for i, j in itertools.product(range(conf_mtrx.shape[0]), range(conf_mtrx.shape[1])):\n",
        "    plt.text(j, i, conf_mtrx[i, j],\n",
        "             horizontalalignment=\"center\",\n",
        "             color=\"white\" if conf_mtrx[i, j] > thresh else \"black\")\n",
        "    \n",
        "# Running imshow again because the top and bottom of the plot seem to be\n",
        "# getting cut off when this isnt run\n",
        "plt.imshow(conf_mtrx, interpolation='none', cmap=plt.cm.Blues)"
      ],
      "execution_count": 72,
      "outputs": [
        {
          "output_type": "stream",
          "text": [
            "Confusion Matrix\n"
          ],
          "name": "stdout"
        },
        {
          "output_type": "execute_result",
          "data": {
            "text/plain": [
              "<matplotlib.image.AxesImage at 0x7fee99e4f940>"
            ]
          },
          "metadata": {
            "tags": []
          },
          "execution_count": 72
        },
        {
          "output_type": "display_data",
          "data": {
            "image/png": "[encoded data removed]",
            "text/plain": [
              "<Figure size 720x720 with 2 Axes>"
            ]
          },
          "metadata": {
            "tags": []
          }
        }
      ]
    },
    {
      "cell_type": "markdown",
      "metadata": {
        "id": "lMT1ulYo1cJT",
        "colab_type": "text"
      },
      "source": [
        "From the above confusion matrix, we can see that the model is mixing up its predictions of Bart and Lisa, which does make sense as the both have the same skin and shirt colour, and both have spikey hair. So other characters combinations that the model seems to be getting wrong include Moe - Mr. Burns, Homer - Bart and Homer and Grandpa."
      ]
    },
    {
      "cell_type": "markdown",
      "metadata": {
        "id": "WCDnitaZBAY1",
        "colab_type": "text"
      },
      "source": [
        "## TO DO\n",
        "* Find how to stop the model overfitting"
      ]
    },
    {
      "cell_type": "code",
      "metadata": {
        "id": "HBYFdYNh662A",
        "colab_type": "code",
        "colab": {}
      },
      "source": [
        "\"\"\"\n",
        "Use this code to delete a directory is required\n",
        "\"\"\"\n",
        "import shutil\n",
        "\n",
        "shutil.rmtree('/content/simpsons_generator/testing')"
      ],
      "execution_count": 0,
      "outputs": []
    }
  ]
}